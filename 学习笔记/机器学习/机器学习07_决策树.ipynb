{
 "cells": [
  {
   "cell_type": "code",
   "execution_count": null,
   "id": "initial_id",
   "metadata": {
    "collapsed": true
   },
   "outputs": [],
   "source": [
    "### 决策树\n",
    "### --- 选择信息熵减少量最大的特征作为划分子表的依据"
   ]
  },
  {
   "metadata": {
    "ExecuteTime": {
     "end_time": "2025-04-16T11:12:13.155275Z",
     "start_time": "2025-04-16T11:12:09.829846Z"
    }
   },
   "cell_type": "code",
   "source": [
    "from sklearn.tree import DecisionTreeRegressor\n",
    "\n",
    "import pandas as pd\n",
    "import numpy as np\n",
    "\n",
    "### 加载boston数据\n",
    "data_url = \"http://lib.stat.cmu.edu/datasets/boston\"\n",
    "raw_df = pd.read_csv(data_url, sep=r\"\\s+\", skiprows=22, header=None)\n",
    "data = np.hstack([raw_df.values[::2, :], raw_df.values[1::2, :2]])\n",
    "target = raw_df.values[1::2, 2]\n",
    "print(data[0:10].shape)\n"
   ],
   "id": "9cd5e521a005f9f8",
   "outputs": [
    {
     "name": "stdout",
     "output_type": "stream",
     "text": [
      "(10, 13)\n"
     ]
    }
   ],
   "execution_count": 5
  },
  {
   "metadata": {
    "ExecuteTime": {
     "end_time": "2025-04-16T11:12:13.163161Z",
     "start_time": "2025-04-16T11:12:13.159181Z"
    }
   },
   "cell_type": "code",
   "source": [
    "import sklearn.utils as su\n",
    "boston = {\n",
    "    'data' : data,\n",
    "    'target' : target,\n",
    "}\n",
    "x, y = su.shuffle(boston['data'], boston['target'], random_state=42)\n",
    "train_size = int(len(x) * 0.8)\n",
    "train_x, test_x, train_y, test_y = x[:train_size], x[train_size:], y[:train_size], y[train_size:]\n",
    "\n",
    "print(train_x.shape, test_x.shape, train_y.shape, test_y.shape)\n",
    "\n",
    "# import sklearn.model_selection as sms\n",
    "# train_x_0, test_x_0, train_y_0, test_y_0 = sms.train_test_split(x, y, test_size=0.2, shuffle=True, random_state=42)\n",
    "#\n",
    "# train_x.shape,train_x_0.shape,x.shape"
   ],
   "id": "7b617fe7ff86df19",
   "outputs": [
    {
     "name": "stdout",
     "output_type": "stream",
     "text": [
      "(404, 13) (102, 13) (404,) (102,)\n"
     ]
    }
   ],
   "execution_count": 6
  },
  {
   "metadata": {
    "ExecuteTime": {
     "end_time": "2025-04-16T11:12:16.052323Z",
     "start_time": "2025-04-16T11:12:13.174895Z"
    }
   },
   "cell_type": "code",
   "source": [
    "import matplotlib.pyplot as plt\n",
    "import sklearn.metrics as sm\n",
    "from sklearn.tree import plot_tree, export_graphviz\n",
    "import graphviz\n",
    "\n",
    "plt.rcParams['font.sans-serif'] = ['STHeiti']\n",
    "plt.rcParams['axes.unicode_minus'] = False\n",
    "\n",
    "dtr = DecisionTreeRegressor(random_state=42, max_depth=3)\n",
    "dtr.fit(train_x, train_y)\n",
    "y_pred = dtr.predict(test_x)\n",
    "\n",
    "## 真实值在前,预测值在后\n",
    "print(\"r2 score:\", sm.r2_score(test_y, y_pred))\n",
    "\n",
    "feature_names = ['CRIM','ZN','INDUS','CHAS','NOX','RM','AGE','DIS','RAD','TAX','PTRATIO','B','LSTAT']\n",
    "\n",
    "#导入graphviz库\n",
    "data_graph=export_graphviz(dtr #第一个参数是训练好的模型，不是回归树类\n",
    "                                ,feature_names=feature_names\n",
    "                                ,filled=True\n",
    "                                ,rounded=True)\n",
    "graph=graphviz.Source(data_graph)\n",
    "graph.view()\n"
   ],
   "id": "739419ff8ff32517",
   "outputs": [
    {
     "name": "stdout",
     "output_type": "stream",
     "text": [
      "r2 score: 0.6190981302885972\n"
     ]
    },
    {
     "data": {
      "text/plain": [
       "'Source.gv.pdf'"
      ]
     },
     "execution_count": 7,
     "metadata": {},
     "output_type": "execute_result"
    }
   ],
   "execution_count": 7
  },
  {
   "metadata": {},
   "cell_type": "code",
   "outputs": [],
   "execution_count": null,
   "source": "",
   "id": "71043cd2fe9aeaf9"
  }
 ],
 "metadata": {
  "kernelspec": {
   "display_name": "Python 3",
   "language": "python",
   "name": "python3"
  },
  "language_info": {
   "codemirror_mode": {
    "name": "ipython",
    "version": 2
   },
   "file_extension": ".py",
   "mimetype": "text/x-python",
   "name": "python",
   "nbconvert_exporter": "python",
   "pygments_lexer": "ipython2",
   "version": "2.7.6"
  }
 },
 "nbformat": 4,
 "nbformat_minor": 5
}
