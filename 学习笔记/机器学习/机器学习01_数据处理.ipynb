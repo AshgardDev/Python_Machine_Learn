{
 "cells": [
  {
   "cell_type": "code",
   "execution_count": null,
   "id": "a929c425a981cfd8",
   "metadata": {},
   "outputs": [],
   "source": "## 数据处理"
  },
  {
   "metadata": {},
   "cell_type": "markdown",
   "source": "## 均值移除",
   "id": "5316a79847196b89"
  },
  {
   "metadata": {
    "ExecuteTime": {
     "end_time": "2025-04-16T11:05:59.946170Z",
     "start_time": "2025-04-16T11:05:59.654761Z"
    }
   },
   "cell_type": "code",
   "source": [
    "## 均值移除\n",
    "import numpy as np\n",
    "import sklearn.preprocessing as sp\n",
    "raw_samples = np.array([\n",
    "    [17, 100, 4000.0],\n",
    "    [20., 80., 5000],\n",
    "    [23., 75., 5500]\n",
    "])\n",
    "\n",
    "## 每一列均值为0 标准差为1\n",
    "std_samples = sp.scale(raw_samples)\n",
    "print(std_samples)\n",
    "print(std_samples.mean(axis=0))\n",
    "print(std_samples.std(axis=0))\n",
    "\n",
    "std_scaler = sp.StandardScaler()\n",
    "X_std = std_scaler.fit_transform(raw_samples)\n",
    "print(X_std)"
   ],
   "id": "a821d849ea9ecc3a",
   "outputs": [
    {
     "name": "stdout",
     "output_type": "stream",
     "text": [
      "[[-1.22474487  1.38873015 -1.33630621]\n",
      " [ 0.         -0.46291005  0.26726124]\n",
      " [ 1.22474487 -0.9258201   1.06904497]]\n",
      "[ 0.00000000e+00 -3.70074342e-17  5.18104078e-16]\n",
      "[1. 1. 1.]\n",
      "[[-1.22474487  1.38873015 -1.33630621]\n",
      " [ 0.         -0.46291005  0.26726124]\n",
      " [ 1.22474487 -0.9258201   1.06904497]]\n"
     ]
    }
   ],
   "execution_count": 2
  },
  {
   "metadata": {},
   "cell_type": "markdown",
   "source": "## 范围缩放",
   "id": "1a609bee11a34570"
  },
  {
   "metadata": {
    "ExecuteTime": {
     "end_time": "2025-04-16T06:56:38.393795Z",
     "start_time": "2025-04-16T06:56:38.387702Z"
    }
   },
   "cell_type": "code",
   "source": [
    "arr = np.array([17, 20 ,23])\n",
    "arr_min = (arr - arr.min())\n",
    "# arr_scale = arr_min / (arr.max() - arr.min())\n",
    "arr_scale = arr_min / arr_min.max()\n",
    "print(arr)\n",
    "print(arr_min)\n",
    "print(arr_scale)\n",
    "\n",
    "### 特征缩放范围(0,1)--》可以自由变更\n",
    "min_max_scaler = sp.MinMaxScaler(feature_range=(0, 1))\n",
    "### 只能接受二维数组。方法是fit_transform--拟合转化, fit是拟合\n",
    "print(min_max_scaler.fit_transform(arr.reshape(-1, 1)))\n",
    "\n",
    "## 线性拟合\n",
    "A = np.array([\n",
    "    [17, 1],\n",
    "    [23, 1]\n",
    "])\n",
    "B = np.array([\n",
    "    [0],\n",
    "    [1]\n",
    "])\n",
    "X = np.linalg.lstsq(A, B)\n",
    "print(X[0][0], X[0][1])\n",
    "print(X[0][0]*20 + X[0][1])\n",
    "\n",
    "def min_max_scaler_func(X):\n",
    "    X_copy = X.copy()\n",
    "    for col in X_copy.T:\n",
    "        col_min = col.min()\n",
    "        col_max = col.max()\n",
    "        A = np.array([[col_min, 1], [col_max, 1]])\n",
    "        B = np.array([[0], [1]])\n",
    "        x = np.linalg.lstsq(A, B)[0]\n",
    "        col *= x[0]\n",
    "        col += x[1]\n",
    "    return X_copy\n",
    "# min_max_scaler_func(raw_samples)\n",
    "\n",
    "print(min_max_scaler.fit_transform(raw_samples))\n",
    "print(min_max_scaler_func(raw_samples))"
   ],
   "id": "75477d335dbebcce",
   "outputs": [
    {
     "name": "stdout",
     "output_type": "stream",
     "text": [
      "[17 20 23]\n",
      "[0 3 6]\n",
      "[0.  0.5 1. ]\n",
      "[[0. ]\n",
      " [0.5]\n",
      " [1. ]]\n",
      "[0.16666667] [-2.83333333]\n",
      "[0.5]\n",
      "[[0.         1.         0.        ]\n",
      " [0.5        0.2        0.66666667]\n",
      " [1.         0.         1.        ]]\n",
      "[[2.22044605e-15 1.00000000e+00 8.88178420e-16]\n",
      " [5.00000000e-01 2.00000000e-01 6.66666667e-01]\n",
      " [1.00000000e+00 1.33226763e-15 1.00000000e+00]]\n"
     ]
    }
   ],
   "execution_count": 3
  },
  {
   "metadata": {
    "ExecuteTime": {
     "end_time": "2025-04-16T07:04:23.954073Z",
     "start_time": "2025-04-16T07:04:23.891357Z"
    }
   },
   "cell_type": "code",
   "source": [
    "### 标准化 -- 列级别\n",
    "\n",
    "from sklearn.preprocessing import StandardScaler\n",
    "from sklearn.model_selection import train_test_split\n",
    "from sklearn.linear_model import LinearRegression\n",
    "import sklearn.preprocessing as sp\n",
    "import numpy as np\n",
    "\n",
    "raw_samples = np.array([\n",
    "    [17, 100, 4000.0],\n",
    "    [20., 80., 5000],\n",
    "    [23., 75., 5500]\n",
    "])\n",
    "\n",
    "## 每一列均值为0 标准差为1\n",
    "std_samples = sp.scale(raw_samples)\n",
    "print(std_samples)\n",
    "print(std_samples.mean(axis=0))\n",
    "print(std_samples.std(axis=0))\n",
    "\n",
    "std_scaler = sp.StandardScaler()\n",
    "X_std = std_scaler.fit_transform(raw_samples)\n",
    "print(X_std)"
   ],
   "id": "18832369c77426da",
   "outputs": [
    {
     "name": "stdout",
     "output_type": "stream",
     "text": [
      "[[-1.22474487  1.38873015 -1.33630621]\n",
      " [ 0.         -0.46291005  0.26726124]\n",
      " [ 1.22474487 -0.9258201   1.06904497]]\n",
      "[ 0.00000000e+00 -3.70074342e-17  5.18104078e-16]\n",
      "[1. 1. 1.]\n",
      "[[-1.22474487  1.38873015 -1.33630621]\n",
      " [ 0.         -0.46291005  0.26726124]\n",
      " [ 1.22474487 -0.9258201   1.06904497]]\n"
     ]
    }
   ],
   "execution_count": 4
  },
  {
   "metadata": {
    "ExecuteTime": {
     "end_time": "2025-04-16T07:04:44.679228Z",
     "start_time": "2025-04-16T07:04:44.673961Z"
    }
   },
   "cell_type": "code",
   "source": [
    "### 范围缩放 -- 列级别\n",
    "\n",
    "arr = np.array([17, 20 ,23])\n",
    "arr_min = (arr - arr.min())\n",
    "# arr_scale = arr_min / (arr.max() - arr.min())\n",
    "arr_scale = arr_min / arr_min.max()\n",
    "print(arr)\n",
    "print(arr_min)\n",
    "print(arr_scale)\n",
    "\n",
    "### 特征缩放范围(0,1)--》可以自由变更\n",
    "min_max_scaler = sp.MinMaxScaler(feature_range=(0, 1))\n",
    "### 只能接受二维数组。方法是fit_transform--拟合转化, fit是拟合\n",
    "print(min_max_scaler.fit_transform(arr.reshape(-1, 1)))\n",
    "\n",
    "## 线性拟合\n",
    "A = np.array([\n",
    "    [17, 1],\n",
    "    [23, 1]\n",
    "])\n",
    "B = np.array([\n",
    "    [0],\n",
    "    [1]\n",
    "])\n",
    "X = np.linalg.lstsq(A, B)\n",
    "print(X[0][0], X[0][1])\n",
    "print(X[0][0]*20 + X[0][1])\n",
    "\n",
    "def min_max_scaler_func(X):\n",
    "    X_copy = X.copy()\n",
    "    for col in X_copy.T:\n",
    "        col_min = col.min()\n",
    "        col_max = col.max()\n",
    "        A = np.array([[col_min, 1], [col_max, 1]])\n",
    "        B = np.array([[0], [1]])\n",
    "        x = np.linalg.lstsq(A, B)[0]\n",
    "        col *= x[0]\n",
    "        col += x[1]\n",
    "    return X_copy\n",
    "# min_max_scaler_func(raw_samples)\n",
    "\n",
    "print(min_max_scaler.fit_transform(raw_samples))\n",
    "print(min_max_scaler_func(raw_samples))"
   ],
   "id": "bcd7e7e53f7fb511",
   "outputs": [
    {
     "name": "stdout",
     "output_type": "stream",
     "text": [
      "[17 20 23]\n",
      "[0 3 6]\n",
      "[0.  0.5 1. ]\n",
      "[[0. ]\n",
      " [0.5]\n",
      " [1. ]]\n",
      "[0.16666667] [-2.83333333]\n",
      "[0.5]\n",
      "[[0.         1.         0.        ]\n",
      " [0.5        0.2        0.66666667]\n",
      " [1.         0.         1.        ]]\n",
      "[[2.22044605e-15 1.00000000e+00 8.88178420e-16]\n",
      " [5.00000000e-01 2.00000000e-01 6.66666667e-01]\n",
      " [1.00000000e+00 1.33226763e-15 1.00000000e+00]]\n"
     ]
    }
   ],
   "execution_count": 5
  },
  {
   "metadata": {},
   "cell_type": "markdown",
   "source": "## 正则化",
   "id": "c4cdb921a5c4f086"
  },
  {
   "metadata": {},
   "cell_type": "code",
   "source": [
    "### 正则化(归一化) -- 处理的是行级别\n",
    "\n",
    "### l2范数 -- 向量中每个元素平方和\n",
    "r = sp.normalize(raw_samples, norm='l2')\n",
    "print(r)\n",
    "### l1范数 -- 向量中每个元素绝对值之和\n",
    "r = sp.normalize(raw_samples, norm='l1')\n",
    "print(r)\n",
    "\n",
    "nor_samples = raw_samples.copy()\n",
    "for row in nor_samples:\n",
    "    row /= abs(row).sum()\n",
    "print('my nor:', nor_samples)"
   ],
   "id": "d17fbcd2c4112667",
   "outputs": [],
   "execution_count": null
  },
  {
   "metadata": {},
   "cell_type": "markdown",
   "source": "## 二值化",
   "id": "2fd66c49faefeb26"
  },
  {
   "metadata": {
    "ExecuteTime": {
     "end_time": "2025-04-16T07:06:16.149747Z",
     "start_time": "2025-04-16T07:06:16.145523Z"
    }
   },
   "cell_type": "code",
   "source": [
    "### 二值化\n",
    "np.random.seed(1)\n",
    "arr = np.random.normal(0, 1, size=(10, 10))\n",
    "\n",
    "## 创建二值化器\n",
    "bin = sp.Binarizer(threshold=0.5)\n",
    "bin_samples = bin.transform(arr)\n",
    "print(arr)\n",
    "print(\"*\"*45)\n",
    "print(bin_samples)\n",
    "print(\"*\"*45)\n",
    "print(bin.fit_transform(arr))\n",
    "\n",
    "arr2 = arr.copy()\n",
    "arr2[arr2 >= 0.5] = 1\n",
    "arr2[arr2 < 0.5] = 0\n",
    "print(\"*\"*45)\n",
    "print(arr2)"
   ],
   "id": "61250df76c6b93cc",
   "outputs": [
    {
     "name": "stdout",
     "output_type": "stream",
     "text": [
      "[[ 1.62434536 -0.61175641 -0.52817175 -1.07296862  0.86540763 -2.3015387\n",
      "   1.74481176 -0.7612069   0.3190391  -0.24937038]\n",
      " [ 1.46210794 -2.06014071 -0.3224172  -0.38405435  1.13376944 -1.09989127\n",
      "  -0.17242821 -0.87785842  0.04221375  0.58281521]\n",
      " [-1.10061918  1.14472371  0.90159072  0.50249434  0.90085595 -0.68372786\n",
      "  -0.12289023 -0.93576943 -0.26788808  0.53035547]\n",
      " [-0.69166075 -0.39675353 -0.6871727  -0.84520564 -0.67124613 -0.0126646\n",
      "  -1.11731035  0.2344157   1.65980218  0.74204416]\n",
      " [-0.19183555 -0.88762896 -0.74715829  1.6924546   0.05080775 -0.63699565\n",
      "   0.19091548  2.10025514  0.12015895  0.61720311]\n",
      " [ 0.30017032 -0.35224985 -1.1425182  -0.34934272 -0.20889423  0.58662319\n",
      "   0.83898341  0.93110208  0.28558733  0.88514116]\n",
      " [-0.75439794  1.25286816  0.51292982 -0.29809284  0.48851815 -0.07557171\n",
      "   1.13162939  1.51981682  2.18557541 -1.39649634]\n",
      " [-1.44411381 -0.50446586  0.16003707  0.87616892  0.31563495 -2.02220122\n",
      "  -0.30620401  0.82797464  0.23009474  0.76201118]\n",
      " [-0.22232814 -0.20075807  0.18656139  0.41005165  0.19829972  0.11900865\n",
      "  -0.67066229  0.37756379  0.12182127  1.12948391]\n",
      " [ 1.19891788  0.18515642 -0.37528495 -0.63873041  0.42349435  0.07734007\n",
      "  -0.34385368  0.04359686 -0.62000084  0.69803203]]\n",
      "*********************************************\n",
      "[[1. 0. 0. 0. 1. 0. 1. 0. 0. 0.]\n",
      " [1. 0. 0. 0. 1. 0. 0. 0. 0. 1.]\n",
      " [0. 1. 1. 1. 1. 0. 0. 0. 0. 1.]\n",
      " [0. 0. 0. 0. 0. 0. 0. 0. 1. 1.]\n",
      " [0. 0. 0. 1. 0. 0. 0. 1. 0. 1.]\n",
      " [0. 0. 0. 0. 0. 1. 1. 1. 0. 1.]\n",
      " [0. 1. 1. 0. 0. 0. 1. 1. 1. 0.]\n",
      " [0. 0. 0. 1. 0. 0. 0. 1. 0. 1.]\n",
      " [0. 0. 0. 0. 0. 0. 0. 0. 0. 1.]\n",
      " [1. 0. 0. 0. 0. 0. 0. 0. 0. 1.]]\n",
      "*********************************************\n",
      "[[1. 0. 0. 0. 1. 0. 1. 0. 0. 0.]\n",
      " [1. 0. 0. 0. 1. 0. 0. 0. 0. 1.]\n",
      " [0. 1. 1. 1. 1. 0. 0. 0. 0. 1.]\n",
      " [0. 0. 0. 0. 0. 0. 0. 0. 1. 1.]\n",
      " [0. 0. 0. 1. 0. 0. 0. 1. 0. 1.]\n",
      " [0. 0. 0. 0. 0. 1. 1. 1. 0. 1.]\n",
      " [0. 1. 1. 0. 0. 0. 1. 1. 1. 0.]\n",
      " [0. 0. 0. 1. 0. 0. 0. 1. 0. 1.]\n",
      " [0. 0. 0. 0. 0. 0. 0. 0. 0. 1.]\n",
      " [1. 0. 0. 0. 0. 0. 0. 0. 0. 1.]]\n",
      "*********************************************\n",
      "[[1. 0. 0. 0. 1. 0. 1. 0. 0. 0.]\n",
      " [1. 0. 0. 0. 1. 0. 0. 0. 0. 1.]\n",
      " [0. 1. 1. 1. 1. 0. 0. 0. 0. 1.]\n",
      " [0. 0. 0. 0. 0. 0. 0. 0. 1. 1.]\n",
      " [0. 0. 0. 1. 0. 0. 0. 1. 0. 1.]\n",
      " [0. 0. 0. 0. 0. 1. 1. 1. 0. 1.]\n",
      " [0. 1. 1. 0. 0. 0. 1. 1. 1. 0.]\n",
      " [0. 0. 0. 1. 0. 0. 0. 1. 0. 1.]\n",
      " [0. 0. 0. 0. 0. 0. 0. 0. 0. 1.]\n",
      " [1. 0. 0. 0. 0. 0. 0. 0. 0. 1.]]\n"
     ]
    }
   ],
   "execution_count": 7
  },
  {
   "metadata": {},
   "cell_type": "markdown",
   "source": "## 独热编码",
   "id": "18c827523eca491c"
  },
  {
   "metadata": {},
   "cell_type": "code",
   "source": [
    "### 独热编码\n",
    "## 按列的方向来计算类别,因为第一类代表同一个特征\n",
    "## 第一列的值有4种:ABCD, 那么第一列的编码\n",
    "## A: [1, 0, 0, 0]\n",
    "## B: [0, 1, 0, 0]\n",
    "## C: [0, 0, 1, 0]\n",
    "## D: [0, 0, 0, 1]\n",
    "## 第二列的有三种:BAD\n",
    "## A: [1, 0, 0]\n",
    "## B: [0, 1, 0]\n",
    "## D: [0, 0, 1]\n",
    "## ...以此类推,注意虽然都是A的值,但它们的编码可能不一样,要根据种类来编码\n",
    "\n",
    "arr = np.array(\n",
    "    [\n",
    "        [1, 3, 2],\n",
    "        [7, 5, 4],\n",
    "        [1, 8 ,6],\n",
    "        [7, 3, 9]\n",
    "    ]\n",
    ")\n",
    "\n",
    "one_encoder = sp.OneHotEncoder()\n",
    "print(one_encoder.fit_transform(arr))\n",
    "\n",
    "## spare_output 是否采用紧缩模式 false则采用稀疏矩阵 true采用紧缩格式\n",
    "one_encoder = sp.OneHotEncoder(sparse_output=False)\n",
    "print(one_encoder.fit_transform(arr))\n",
    "\n",
    "###\n",
    "# {‘error’, ‘ignore’}, default=’error’ 在转换过程中遇到未知分类特征时，是引发错误还是忽略（默认为引发）。当此参数设置为“ignore”并且在转换过程中遇到未知类别时，这一特征的 one-hot 编码列将全置为 0。在逆变换中，未知类别将表示为 None\n",
    "\n",
    "arr = np.array(['A', 'B', 'C', 'D', 'E', 'F']).reshape(2, 3)\n",
    "# one_encoder = sp.OneHotEncoder(sparse_output=False, handle_unknown='error')\n",
    "one_encoder = sp.OneHotEncoder(sparse_output=False, handle_unknown='ignore')\n",
    "one_encoder.fit(arr)\n",
    "print(one_encoder.transform(arr))\n",
    "print(one_encoder.transform([['A', 'G', 'C'], ['B', 'D', 'E']]))\n",
    "\n",
    "## 反编码\n",
    "print(one_encoder.inverse_transform([[0, 1, 1, 0, 0, 1]]))\n",
    "\n",
    "\n",
    "##############################\n",
    "## 2个数   3个数   4个数\n",
    "##  1       3      2\n",
    "##  7       5      4\n",
    "##  1       8      6\n",
    "##  7       3      9\n",
    "##\n",
    "## 每个数字编码\n",
    "## 1-10  3-100  2-1000\n",
    "## 7-01  5-010  4-0100\n",
    "##       8-001  6-0010\n",
    "##              9-0001\n",
    "##\n",
    "## 最终样本矩阵\n",
    "## [1. 0. 1. 0. 0. 1. 0. 0. 0.]\n",
    "## [0. 1. 0. 1. 0. 0. 1. 0. 0.]\n",
    "## [1. 0. 0. 0. 1. 0. 0. 1. 0.]\n",
    "## [0. 1. 1. 0. 0. 0. 0. 0. 1.]\n",
    "##"
   ],
   "id": "6139436b015bc932",
   "outputs": [],
   "execution_count": null
  },
  {
   "metadata": {
    "ExecuteTime": {
     "end_time": "2025-04-19T15:58:30.924819Z",
     "start_time": "2025-04-19T15:58:30.898153Z"
    }
   },
   "cell_type": "code",
   "source": [
    "\n",
    "from sklearn.preprocessing import OneHotEncoder\n",
    "y = [['A', 'B', 'C', 'D'], ['B', 'A', 'B', 'A'], ['C', 'D', 'A', 'B'],\n",
    "     ['D','A', 'C', 'B']]\n",
    "print(y[0])\n",
    "print(y[1])\n",
    "print(y[2])\n",
    "print(y[3])\n",
    "encoder = OneHotEncoder(sparse_output=False)\n",
    "y_encoder = encoder.fit_transform(y)\n",
    "print(y_encoder)"
   ],
   "id": "4fdf46041bb5e9d5",
   "outputs": [
    {
     "name": "stdout",
     "output_type": "stream",
     "text": [
      "['A', 'B', 'C', 'D']\n",
      "['B', 'A', 'B', 'A']\n",
      "['C', 'D', 'A', 'B']\n",
      "['D', 'A', 'C', 'B']\n",
      "[[1. 0. 0. 0. 0. 1. 0. 0. 0. 1. 0. 0. 1.]\n",
      " [0. 1. 0. 0. 1. 0. 0. 0. 1. 0. 1. 0. 0.]\n",
      " [0. 0. 1. 0. 0. 0. 1. 1. 0. 0. 0. 1. 0.]\n",
      " [0. 0. 0. 1. 1. 0. 0. 0. 0. 1. 0. 1. 0.]]\n"
     ]
    }
   ],
   "execution_count": 1
  },
  {
   "metadata": {},
   "cell_type": "markdown",
   "source": "## 标签编码",
   "id": "badb697a1d0a36ba"
  },
  {
   "metadata": {
    "ExecuteTime": {
     "end_time": "2025-06-05T09:03:54.532094Z",
     "start_time": "2025-06-05T09:03:54.433266Z"
    }
   },
   "cell_type": "code",
   "source": [
    "### 标签编码\n",
    "import numpy as np\n",
    "import sklearn.preprocessing as sp\n",
    "arr = np.array(['bmw', 'ford', 'audi', 'toyota', 'redflag', 'ford'])\n",
    "lbe = sp.LabelEncoder()\n",
    "result = lbe.fit_transform(arr)\n",
    "print(result)\n",
    "\n",
    "### 反编码\n",
    "lbe.inverse_transform(result)"
   ],
   "id": "b5cd345b355940db",
   "outputs": [
    {
     "name": "stdout",
     "output_type": "stream",
     "text": [
      "[1 2 0 4 3 2]\n"
     ]
    },
    {
     "data": {
      "text/plain": [
       "array(['bmw', 'ford', 'audi', 'toyota', 'redflag', 'ford'], dtype='<U7')"
      ]
     },
     "execution_count": 5,
     "metadata": {},
     "output_type": "execute_result"
    }
   ],
   "execution_count": 5
  },
  {
   "metadata": {
    "ExecuteTime": {
     "end_time": "2025-04-16T08:43:28.744004Z",
     "start_time": "2025-04-16T08:43:28.741351Z"
    }
   },
   "cell_type": "code",
   "source": [
    "### 欠拟合 和 过拟合\n",
    "# 欠拟合,模型过于简单,对于训练数据和测试数据,都无法给出足够高的预测精度\n",
    "# 过拟合,模型过于复杂,对于训练数据能够给出较高的预测精度,但对于测试数据预测精度较低\n",
    "# 一个性能可以接受的学习模型应该对训练数据和测试数据都有接近的预测精度,而且精度不能太低\n",
    "#\n",
    "# 训练数据R1, 预测数据R1\n",
    "# 0.3         0.4         欠拟合,过于简单,无法反应数据规则\n",
    "# 0.9         0.2         过拟合,过于复杂,太特殊,缺乏一般性,泛化性差\n",
    "# 0.7         0.6         可接受,复杂度适中,既能反应数据规则,同时又不失一般性"
   ],
   "id": "c3c59c7b3108874e",
   "outputs": [],
   "execution_count": 10
  },
  {
   "metadata": {},
   "cell_type": "markdown",
   "source": "",
   "id": "8596bc8ffe21163d"
  }
 ],
 "metadata": {
  "kernelspec": {
   "display_name": "Python 3",
   "language": "python",
   "name": "python3"
  },
  "language_info": {
   "codemirror_mode": {
    "name": "ipython",
    "version": 2
   },
   "file_extension": ".py",
   "mimetype": "text/x-python",
   "name": "python",
   "nbconvert_exporter": "python",
   "pygments_lexer": "ipython2",
   "version": "2.7.6"
  }
 },
 "nbformat": 4,
 "nbformat_minor": 5
}
