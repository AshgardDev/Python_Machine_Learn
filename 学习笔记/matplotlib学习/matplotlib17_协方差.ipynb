{
 "cells": [
  {
   "cell_type": "code",
   "id": "initial_id",
   "metadata": {
    "collapsed": true,
    "ExecuteTime": {
     "end_time": "2025-04-16T00:47:11.871036Z",
     "start_time": "2025-04-16T00:47:11.633780Z"
    }
   },
   "source": [
    "import matplotlib.pyplot as plt\n",
    "import numpy as np\n",
    "\n",
    "## 协方差\n",
    "## 数值代表喜欢的电影类型程度\n",
    "## 恐怖片、动作片、喜剧片、爱情片、武打片、剧情片、战争片\n",
    "user1 = np.array([1, 1, 3, 2, 8, 2, 4])\n",
    "user2 = np.array([2, 2, 3, 6, 8, 1, 1])\n",
    "user3 = np.array([6, 8, 2, 1, 1, 3, 4])\n",
    "\n",
    "## 计算user1、user2、user3的相关性\n",
    "avg_1 = np.mean(user1)\n",
    "avg_2 = np.mean(user2)\n",
    "avg_3 = np.mean(user3)\n",
    "\n",
    "dev_1 = user1 - avg_1\n",
    "dev_2 = user2 - avg_2\n",
    "dev_3 = user3 - avg_3\n",
    "\n",
    "cov_12 = np.mean(dev_1 * dev_2)\n",
    "cov_23 = np.mean(dev_2 * dev_3)\n",
    "cov_31 = np.mean(dev_3 * dev_1)\n",
    "\n",
    "cov_12, cov_23, cov_31\n",
    "## cov_12 为正数,表明是正相关,也就是有相同爱好\n",
    "## cov_23 为负数,表明是负相关,也就是爱好差别大"
   ],
   "outputs": [
    {
     "data": {
      "text/plain": [
       "(np.float64(3.7142857142857144),\n",
       " np.float64(-3.877551020408163),\n",
       " np.float64(-3.2857142857142856))"
      ]
     },
     "execution_count": 1,
     "metadata": {},
     "output_type": "execute_result"
    }
   ],
   "execution_count": 1
  },
  {
   "metadata": {
    "ExecuteTime": {
     "end_time": "2025-04-16T00:47:18.859274Z",
     "start_time": "2025-04-16T00:47:18.857437Z"
    }
   },
   "cell_type": "code",
   "source": [
    "print(np.mean(dev_1 * dev_1), np.mean(dev_1 * dev_2))\n",
    "print(np.mean(dev_2 * dev_1), np.mean(dev_2 * dev_2))\n",
    "## 记住这个矩阵--这个就是总体协方差"
   ],
   "id": "9c4b9cff4e8e2e3e",
   "outputs": [
    {
     "name": "stdout",
     "output_type": "stream",
     "text": [
      "5.142857142857143 3.7142857142857144\n",
      "3.7142857142857144 6.204081632653062\n"
     ]
    }
   ],
   "execution_count": 2
  },
  {
   "metadata": {
    "ExecuteTime": {
     "end_time": "2025-04-16T00:47:38.799284Z",
     "start_time": "2025-04-16T00:47:38.796549Z"
    }
   },
   "cell_type": "code",
   "source": [
    "## 相关系数矩阵\n",
    "np.corrcoef(user1, user2)"
   ],
   "id": "c0747a56ea2606a7",
   "outputs": [
    {
     "data": {
      "text/plain": [
       "array([[1.        , 0.65755839],\n",
       "       [0.65755839, 1.        ]])"
      ]
     },
     "execution_count": 3,
     "metadata": {},
     "output_type": "execute_result"
    }
   ],
   "execution_count": 3
  },
  {
   "metadata": {
    "ExecuteTime": {
     "end_time": "2025-04-16T00:48:07.292317Z",
     "start_time": "2025-04-16T00:48:07.289011Z"
    }
   },
   "cell_type": "code",
   "source": [
    "## cov默认计算样本协方差,当ddof=0,就是总体协方差\n",
    "## [[a方差, ab协方差], [ba协方差, b方差]]\n",
    "\n",
    "cov_user1_user2 = np.cov(user1, user2) ### 这里计算的协方差为什么比我们自己算的协方差大呢???\n",
    "print(cov_user1_user2) ## 因为这里用的是样本协方差,除以(n-1),而我们计算的是总体协方差,除以n,所以比较大\n",
    "\n",
    "cov_user1_user2 = np.cov(user1, user2, ddof=0) ## 改成总体方差后,可以看到,值时一样的,都是3.714\n",
    "print(cov_user1_user2)"
   ],
   "id": "7a216271787aeb82",
   "outputs": [
    {
     "name": "stdout",
     "output_type": "stream",
     "text": [
      "[[6.         4.33333333]\n",
      " [4.33333333 7.23809524]]\n",
      "[[5.14285714 3.71428571]\n",
      " [3.71428571 6.20408163]]\n"
     ]
    }
   ],
   "execution_count": 4
  },
  {
   "metadata": {
    "ExecuteTime": {
     "end_time": "2025-04-16T00:48:25.943117Z",
     "start_time": "2025-04-16T00:48:25.939634Z"
    }
   },
   "cell_type": "code",
   "source": [
    "## 协方差矩阵\n",
    "np.cov(user1, user2)"
   ],
   "id": "ac5b45132435ae15",
   "outputs": [
    {
     "data": {
      "text/plain": [
       "array([[6.        , 4.33333333],\n",
       "       [4.33333333, 7.23809524]])"
      ]
     },
     "execution_count": 5,
     "metadata": {},
     "output_type": "execute_result"
    }
   ],
   "execution_count": 5
  },
  {
   "metadata": {},
   "cell_type": "code",
   "outputs": [],
   "execution_count": null,
   "source": "",
   "id": "cbf414069f66c69d"
  },
  {
   "metadata": {},
   "cell_type": "markdown",
   "source": [
    "## 协方差公式\n",
    "$\\left[ \\begin{array}{ccc}\n",
    "1 & \\frac{cov\\_ab}{std\\_a \\times std\\_b} \\\\\n",
    "\\frac{cov\\_ba}{std\\_b \\times std\\_a} & 1 \\\\\n",
    "\\end{array}\n",
    "\\right ]$\n",
    "\n",
    "A = $[a_1, a_2, ..., a_n]$\n",
    "\n",
    "B = $[b_1, b_2, ..., b_n]$\n",
    "\n",
    "avg_a = $\\frac{a_1 + a_2 + ... + a_n}{n}$\n",
    "\n",
    "avg_b = $\\frac{b_1 + b_2 + ... + b_n}{n}$\n",
    "\n",
    "dev_a = A - avg_a\n",
    "\n",
    "dev_b = B - avg_b\n",
    "\n",
    "协方差\n",
    "\n",
    "cov_ab = mean(dev_a x dev_b)\n",
    "\n",
    "cov_ba = mean(dev_b x dev_a)\n",
    "\n",
    "值为正,表示正相关; 有相似性\n",
    "\n",
    "值为负,表示负相关; 有相反性\n",
    "\n",
    "绝对值越大,表示相关性越强"
   ],
   "id": "768db76875911f95"
  },
  {
   "metadata": {},
   "cell_type": "code",
   "outputs": [],
   "execution_count": null,
   "source": "",
   "id": "a9e856d529c64889"
  },
  {
   "metadata": {},
   "cell_type": "markdown",
   "source": [
    "这是数据分析和统计中的三个基础概念，常一起出现，下面从定义、公式、区别和联系几个方面来讲清楚：\n",
    "\n",
    "---\n",
    "\n",
    "## 📘 一、**方差（Variance）**\n",
    "\n",
    "### ✅ 定义：\n",
    "衡量数据波动程度的一种度量，表示数据点与均值之间的平均平方距离。\n",
    "\n",
    "### ✅ 公式（总体方差）：\n",
    "\n",
    "$$\n",
    "\\sigma^2 = \\frac{1}{n} \\sum_{i=1}^{n}(x_i - \\mu)^2\n",
    "$$\n",
    "\n",
    "- $ x_i $：第 i 个样本\n",
    "- $ \\mu $：均值\n",
    "- $ n $：样本数量\n",
    "\n",
    "### ✅ 特点：\n",
    "- 值越大，说明数据波动越大。\n",
    "- 单位是原始单位的平方。\n",
    "\n",
    "---\n",
    "\n",
    "## 📘 二、**标准差（Standard Deviation）**\n",
    "\n",
    "### ✅ 定义：\n",
    "标准差是方差的平方根，用来表示数据与均值的平均偏离程度，单位与原始数据一致。\n",
    "\n",
    "### ✅ 公式：\n",
    "\n",
    "$$\n",
    "\\sigma = \\sqrt{\\frac{1}{n} \\sum_{i=1}^{n}(x_i - \\mu)^2} = \\sqrt{\\sigma^2}\n",
    "$$\n",
    "\n",
    "### ✅ 特点：\n",
    "- 和数据单位一致，更直观。\n",
    "- 在机器学习和金融分析中更常用。\n",
    "\n",
    "---\n",
    "\n",
    "## 📘 三、**协方差（Covariance）**\n",
    "\n",
    "### ✅ 定义：\n",
    "衡量两个变量是否同时变化（联动性）的指标。\n",
    "\n",
    "### ✅ 公式：\n",
    "\n",
    "$$\n",
    "\\text{Cov}(X, Y) = \\frac{1}{n} \\sum_{i=1}^{n} (x_i - \\bar{x})(y_i - \\bar{y})\n",
    "$$\n",
    "\n",
    "- $ x_i $, $ y_i $：X 和 Y 的样本点\n",
    "- $ \\bar{x}, \\bar{y} $：各自的均值\n",
    "\n",
    "### ✅ 特点：\n",
    "- 协方差 > 0：正相关\n",
    "- 协方差 < 0：负相关\n",
    "- 协方差 = 0：无相关性（可能独立）\n",
    "\n",
    "### 🧠 补充：\n",
    "- 协方差不能直接比较，因为它的大小依赖于变量的单位。\n",
    "- 因此通常会转换为相关系数（标准化的协方差）。\n",
    "\n",
    "---\n",
    "\n",
    "## 🧠 四、三者的关系总结：\n",
    "\n",
    "| 项目      | 表达对象           | 是否标准化 | 结果可比性 |\n",
    "|-----------|--------------------|-------------|-------------|\n",
    "| 方差      | 单变量             | 否          | 否          |\n",
    "| 标准差    | 单变量（√方差）    | 是          | 是（单位一致）|\n",
    "| 协方差    | 双变量             | 否          | 否（单位依赖）|\n",
    "\n",
    "---\n",
    "\n",
    "## 🔢 示例（Python 演示）：\n",
    "\n",
    "```python\n",
    "import numpy as np\n",
    "\n",
    "x = np.array([1, 2, 3, 4, 5])\n",
    "y = np.array([2, 4, 6, 8, 10])\n",
    "\n",
    "print(\"方差:\", np.var(x))\n",
    "print(\"标准差:\", np.std(x))\n",
    "print(\"协方差:\", np.cov(x, y)[0, 1])\n",
    "```\n",
    "\n",
    "---\n",
    "\n",
    "如果你想看可视化解释，比如协方差如何表示方向性，或者对实际数据应用这些概念，我可以帮你画图或者解释得更直观。需要吗？🙂"
   ],
   "id": "c14261f434649ef"
  },
  {
   "metadata": {},
   "cell_type": "code",
   "outputs": [],
   "execution_count": null,
   "source": "",
   "id": "b00777cfd5bdce41"
  }
 ],
 "metadata": {
  "kernelspec": {
   "display_name": "Python 3",
   "language": "python",
   "name": "python3"
  },
  "language_info": {
   "codemirror_mode": {
    "name": "ipython",
    "version": 2
   },
   "file_extension": ".py",
   "mimetype": "text/x-python",
   "name": "python",
   "nbconvert_exporter": "python",
   "pygments_lexer": "ipython2",
   "version": "2.7.6"
  }
 },
 "nbformat": 4,
 "nbformat_minor": 5
}
