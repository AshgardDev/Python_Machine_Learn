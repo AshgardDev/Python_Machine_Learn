{
 "cells": [
  {
   "cell_type": "code",
   "id": "initial_id",
   "metadata": {
    "collapsed": true,
    "jupyter": {
     "outputs_hidden": true
    },
    "ExecuteTime": {
     "end_time": "2025-04-14T16:05:01.035468Z",
     "start_time": "2025-04-14T16:05:00.938625Z"
    }
   },
   "source": "import numpy as np",
   "outputs": [],
   "execution_count": 1
  },
  {
   "cell_type": "markdown",
   "id": "4571b90a502f6141",
   "metadata": {},
   "source": [
    "## numpy基础\n",
    "\n",
    "- ndarray数组\n",
    "  np.ndarray类的对象表示n维数组。"
   ]
  },
  {
   "cell_type": "code",
   "id": "ab419ca90f6a73ee",
   "metadata": {
    "ExecuteTime": {
     "end_time": "2025-04-14T16:05:01.921346Z",
     "start_time": "2025-04-14T16:05:01.919492Z"
    }
   },
   "source": [
    "ary = np.array([1, 2, 3])\n",
    "print(type(ary))"
   ],
   "outputs": [
    {
     "name": "stdout",
     "output_type": "stream",
     "text": [
      "<class 'numpy.ndarray'>\n"
     ]
    }
   ],
   "execution_count": 2
  },
  {
   "cell_type": "markdown",
   "id": "6f1eb74539d4016b",
   "metadata": {},
   "source": [
    "## 内存中的ndarray对象\n",
    "- 元数据(metadata)\n",
    "- dim, dimensions, dtype, data\n",
    "- ![结构](./资料/numpy_meta.png)\n",
    "\n"
   ]
  },
  {
   "cell_type": "code",
   "execution_count": null,
   "id": "5edbb1650d1bfa22",
   "metadata": {},
   "outputs": [],
   "source": [
    "print(ary * 10)\n",
    "print(ary + ary)\n",
    "print(ary.ndim, ary.size, ary.shape, ary.dtype, ary.data)"
   ]
  },
  {
   "metadata": {
    "ExecuteTime": {
     "end_time": "2025-03-20T02:35:32.465423Z",
     "start_time": "2025-03-20T02:35:32.461267Z"
    }
   },
   "cell_type": "code",
   "source": [
    "## [开始值,结束值),步长\n",
    "np.arange(0, 5, 1)"
   ],
   "id": "6327550d3117c3af",
   "outputs": [
    {
     "data": {
      "text/plain": [
       "array([0, 1, 2, 3, 4])"
      ]
     },
     "execution_count": 5,
     "metadata": {},
     "output_type": "execute_result"
    }
   ],
   "execution_count": 5
  },
  {
   "metadata": {
    "ExecuteTime": {
     "end_time": "2025-03-20T02:39:31.269596Z",
     "start_time": "2025-03-20T02:39:31.267012Z"
    }
   },
   "cell_type": "code",
   "source": [
    "# [开始值start, 结束值end], 划分个数num\n",
    "# 步长: (end - start) / (num - 1)\n",
    "np.linspace(0, 5, 5)\n",
    "np.linspace(0, 5, 9)\n",
    "np.linspace(5, 10, 6)"
   ],
   "id": "4c54cb9ea3e0a963",
   "outputs": [
    {
     "data": {
      "text/plain": [
       "array([ 5.,  6.,  7.,  8.,  9., 10.])"
      ]
     },
     "execution_count": 12,
     "metadata": {},
     "output_type": "execute_result"
    }
   ],
   "execution_count": 12
  },
  {
   "metadata": {
    "ExecuteTime": {
     "end_time": "2025-03-20T02:41:17.700403Z",
     "start_time": "2025-03-20T02:41:17.698085Z"
    }
   },
   "cell_type": "code",
   "source": [
    "np.zeros(10)\n",
    "np.zeros(3, dtype=int)\n",
    "val = np.zeros((5, 5), dtype=int)\n",
    "val[0, 0] = 1\n",
    "print(val)"
   ],
   "id": "f37c1ea3299abac",
   "outputs": [
    {
     "name": "stdout",
     "output_type": "stream",
     "text": [
      "[[1 0 0 0 0]\n",
      " [0 0 0 0 0]\n",
      " [0 0 0 0 0]\n",
      " [0 0 0 0 0]\n",
      " [0 0 0 0 0]]\n"
     ]
    }
   ],
   "execution_count": 20
  },
  {
   "metadata": {
    "ExecuteTime": {
     "end_time": "2025-03-20T03:17:36.726796Z",
     "start_time": "2025-03-20T03:17:36.723405Z"
    }
   },
   "cell_type": "code",
   "source": [
    "ones = np.ones((5, 5), dtype=int)\n",
    "print(ones)\n",
    "np.zeros(10, dtype=np.float32)\n",
    "np.zeros(4, dtype=np.bool)\n",
    "np.ones(5, dtype=np.bool)"
   ],
   "id": "902c0b4738899b9c",
   "outputs": [
    {
     "name": "stdout",
     "output_type": "stream",
     "text": [
      "[[1 1 1 1 1]\n",
      " [1 1 1 1 1]\n",
      " [1 1 1 1 1]\n",
      " [1 1 1 1 1]\n",
      " [1 1 1 1 1]]\n"
     ]
    },
    {
     "data": {
      "text/plain": [
       "array([ True,  True,  True,  True,  True])"
      ]
     },
     "execution_count": 28,
     "metadata": {},
     "output_type": "execute_result"
    }
   ],
   "execution_count": 28
  },
  {
   "metadata": {
    "ExecuteTime": {
     "end_time": "2025-03-20T03:15:10.075151Z",
     "start_time": "2025-03-20T03:15:10.072014Z"
    }
   },
   "cell_type": "code",
   "source": [
    "like = np.zeros_like(ones)\n",
    "print(like)\n",
    "print(np.ones_like(like))"
   ],
   "id": "239cde18ca899c9e",
   "outputs": [
    {
     "name": "stdout",
     "output_type": "stream",
     "text": [
      "[[0 0 0 0 0]\n",
      " [0 0 0 0 0]\n",
      " [0 0 0 0 0]\n",
      " [0 0 0 0 0]\n",
      " [0 0 0 0 0]]\n",
      "[[1 1 1 1 1]\n",
      " [1 1 1 1 1]\n",
      " [1 1 1 1 1]\n",
      " [1 1 1 1 1]\n",
      " [1 1 1 1 1]]\n"
     ]
    }
   ],
   "execution_count": 24
  },
  {
   "metadata": {
    "ExecuteTime": {
     "end_time": "2025-04-14T16:07:23.542404Z",
     "start_time": "2025-04-14T16:07:23.539479Z"
    }
   },
   "cell_type": "code",
   "source": [
    "arr = np.arange(0, 5, 1)\n",
    "arr2 = np.array([[1, 10, 3], [4, 0, 6]])\n",
    "print(arr.shape, arr2.shape, arr2.shape[0], len(arr2), arr2.size)"
   ],
   "id": "e781067d3aca2c5c",
   "outputs": [
    {
     "name": "stdout",
     "output_type": "stream",
     "text": [
      "(5,) (2, 3) 2 2 6\n"
     ]
    }
   ],
   "execution_count": 4
  },
  {
   "metadata": {
    "ExecuteTime": {
     "end_time": "2025-03-20T03:23:22.673960Z",
     "start_time": "2025-03-20T03:23:22.670540Z"
    }
   },
   "cell_type": "code",
   "source": [
    "print(np.reshape(arr2, (1, 6)))\n",
    "print(np.reshape(arr2, (1, 6), order='F'))\n",
    "print(np.reshape(arr2, (1, 6), order='C'))\n",
    "\n",
    "print(np.reshape(arr2, (1, -1)))\n",
    "print(np.reshape(arr2, (2, -1)))\n",
    "print(np.reshape(arr2, (3, -1)))"
   ],
   "id": "d3b4b9f237758d15",
   "outputs": [
    {
     "name": "stdout",
     "output_type": "stream",
     "text": [
      "[[ 1 10  3  4  0  6]]\n",
      "[[ 1  4 10  0  3  6]]\n",
      "[[ 1 10  3  4  0  6]]\n",
      "[[ 1 10  3  4  0  6]]\n",
      "[[ 1 10  3]\n",
      " [ 4  0  6]]\n",
      "[[ 1 10]\n",
      " [ 3  4]\n",
      " [ 0  6]]\n"
     ]
    }
   ],
   "execution_count": 44
  },
  {
   "metadata": {
    "ExecuteTime": {
     "end_time": "2025-03-20T03:27:37.984443Z",
     "start_time": "2025-03-20T03:27:37.981505Z"
    }
   },
   "cell_type": "code",
   "source": [
    "## 元数据修改\n",
    "\n",
    "a1 = np.array([1, 2, 3, 4, 5, 6, 7 ,8])\n",
    "print(a1.shape)\n",
    "a1.shape = (2, 4)\n",
    "print(a1.shape, a1)\n",
    "print(a1.ndim, a1.size, a1.shape, a1.dtype)"
   ],
   "id": "f037e050457af49e",
   "outputs": [
    {
     "name": "stdout",
     "output_type": "stream",
     "text": [
      "(8,)\n",
      "(2, 4) [[1 2 3 4]\n",
      " [5 6 7 8]]\n",
      "2 8 (2, 4) int64\n",
      "float64 [[4.9e-324 9.9e-324 1.5e-323 2.0e-323]\n",
      " [2.5e-323 3.0e-323 3.5e-323 4.0e-323]]\n"
     ]
    }
   ],
   "execution_count": 51
  },
  {
   "metadata": {
    "ExecuteTime": {
     "end_time": "2025-04-14T16:10:00.810523Z",
     "start_time": "2025-04-14T16:10:00.807286Z"
    }
   },
   "cell_type": "code",
   "source": [
    "a2 = np.arange(10)\n",
    "print('a2', a2, a2.dtype)\n",
    "## 可以改,但最好不要,会导致数据错乱,因为读取的数据字节变化了, 要改使用astype方法\n",
    "a2.dtype = np.int32\n",
    "print('a2 modify:', a2, a2.dtype)\n",
    "\n",
    "### astype 会新建一个数组对象, 不会修改原始对象\n",
    "a3 = np.arange(10)\n",
    "print('a3 :', a3, a3.dtype)\n",
    "a3_1 = a3.astype(np.int8)\n",
    "print('a3_1 :', a3_1, a3_1.dtype)\n",
    "a3_2 = a3.astype(np.float64)\n",
    "print('a3_2 :', a3_2, a3_2.dtype)"
   ],
   "id": "8d842810bdb0e256",
   "outputs": [
    {
     "name": "stdout",
     "output_type": "stream",
     "text": [
      "a2 [0 1 2 3 4 5 6 7 8 9] int64\n",
      "a2 modify: [0 0 1 0 2 0 3 0 4 0 5 0 6 0 7 0 8 0 9 0] int32\n",
      "a3 : [0 1 2 3 4 5 6 7 8 9] int64\n",
      "a3_1 : [0 1 2 3 4 5 6 7 8 9] int8\n",
      "a3_2 : [0. 1. 2. 3. 4. 5. 6. 7. 8. 9.] float64\n"
     ]
    }
   ],
   "execution_count": 5
  },
  {
   "metadata": {
    "ExecuteTime": {
     "end_time": "2025-04-14T16:10:36.383740Z",
     "start_time": "2025-04-14T16:10:36.378924Z"
    }
   },
   "cell_type": "code",
   "source": [
    "## 变形\n",
    "ary = np.arange(12).reshape(3, 4)\n",
    "ary.ndim, ary.shape, ary.size, len(ary)"
   ],
   "id": "6bfb6a43a12cf6f0",
   "outputs": [
    {
     "data": {
      "text/plain": [
       "(2, (3, 4), 12, 3)"
      ]
     },
     "execution_count": 6,
     "metadata": {},
     "output_type": "execute_result"
    }
   ],
   "execution_count": 6
  },
  {
   "metadata": {
    "ExecuteTime": {
     "end_time": "2025-04-14T16:11:02.611731Z",
     "start_time": "2025-04-14T16:11:02.608880Z"
    }
   },
   "cell_type": "code",
   "source": [
    "## 读取\n",
    "ary = np.arange(24).reshape(2, 3, 4)\n",
    "print(ary)\n",
    "print(ary[1])\n",
    "print(ary[1, 2])\n",
    "print(ary[1, 2, 3])\n",
    "print(ary[1][2])\n",
    "print(ary[1][2][3])"
   ],
   "id": "73e706d109bcd69c",
   "outputs": [
    {
     "name": "stdout",
     "output_type": "stream",
     "text": [
      "[[[ 0  1  2  3]\n",
      "  [ 4  5  6  7]\n",
      "  [ 8  9 10 11]]\n",
      "\n",
      " [[12 13 14 15]\n",
      "  [16 17 18 19]\n",
      "  [20 21 22 23]]]\n",
      "[[12 13 14 15]\n",
      " [16 17 18 19]\n",
      " [20 21 22 23]]\n",
      "[20 21 22 23]\n",
      "23\n",
      "[20 21 22 23]\n",
      "23\n"
     ]
    }
   ],
   "execution_count": 7
  },
  {
   "metadata": {
    "ExecuteTime": {
     "end_time": "2025-04-14T16:11:14.178771Z",
     "start_time": "2025-04-14T16:11:14.176652Z"
    }
   },
   "cell_type": "code",
   "source": [
    "for i in range(ary.shape[0]):\n",
    "    for j in range(ary.shape[1]):\n",
    "        for k in range(ary.shape[2]):\n",
    "            print(ary[i, j, k])"
   ],
   "id": "1ae371eb21215078",
   "outputs": [
    {
     "name": "stdout",
     "output_type": "stream",
     "text": [
      "0\n",
      "1\n",
      "2\n",
      "3\n",
      "4\n",
      "5\n",
      "6\n",
      "7\n",
      "8\n",
      "9\n",
      "10\n",
      "11\n",
      "12\n",
      "13\n",
      "14\n",
      "15\n",
      "16\n",
      "17\n",
      "18\n",
      "19\n",
      "20\n",
      "21\n",
      "22\n",
      "23\n"
     ]
    }
   ],
   "execution_count": 8
  },
  {
   "metadata": {},
   "cell_type": "markdown",
   "source": [
    "### numpy的数据类型 和 缩写\n",
    "可以查看图片 numpy数据类型和缩写.png 或访问 https://cloud.tencent.com/developer/article/1755021"
   ],
   "id": "b21c7e74bd43bb25"
  },
  {
   "metadata": {
    "ExecuteTime": {
     "end_time": "2025-04-14T16:15:28.656786Z",
     "start_time": "2025-04-14T16:15:28.655020Z"
    }
   },
   "cell_type": "code",
   "source": [
    "var = np.dtype(np.float64)\n",
    "print(var, type(var))"
   ],
   "id": "9a5aee34bbb60d03",
   "outputs": [
    {
     "name": "stdout",
     "output_type": "stream",
     "text": [
      "float64 <class 'numpy.dtypes.Float64DType'>\n"
     ]
    }
   ],
   "execution_count": 9
  },
  {
   "metadata": {
    "ExecuteTime": {
     "end_time": "2025-04-14T16:15:43.210307Z",
     "start_time": "2025-04-14T16:15:43.205950Z"
    }
   },
   "cell_type": "code",
   "source": [
    "### 自定义复合类型--类\n",
    "\n",
    "data = [\n",
    "    ('zhangsan', [98, 80, 85], 15),\n",
    "    ('lisi', [92, 81, 83], 16),\n",
    "    ('wangwu', [95, 85, 95], 14),\n",
    "]\n",
    "\n",
    "# scores = np.array(data)\n",
    "## U在基础数据类型时,会自动推断长度\n",
    "data2 = np.array(['aa', 'bbb', 'cccc', 'ddddd'], dtype='U')\n",
    "print(data2, data2.dtype)\n",
    "\n",
    "## 这里不能直接写U,不会自动推断结构化数据的长度,解决办法,要么用object,要么用一个大长度(不推荐,浪费空间)\n",
    "scores = np.array(data, dtype='U, 3i4, i4')\n",
    "print(scores, scores.dtype)\n",
    "scores = np.array(data, dtype='O, 3i4, i4')\n",
    "print(scores, scores.dtype)\n",
    "### 结构化数据怎么访问 f1, f2代表field1 field2\n",
    "print('read:', scores[0]['f1'][0])\n",
    "print('--'*30)\n",
    "score2 = np.array(data, dtype=[('name', 'str', 2), ('scores', 'int32', 3), ('age', 'int32', 1)])\n",
    "## 这个时候就没有f0,f1了,已经有明确的字段名字了\n",
    "print('read:', score2[0]['scores'][0])\n",
    "print(score2, score2.dtype)\n",
    "print('--'*30)\n",
    "score3 = np.array(data, dtype={'names':['name', 'scores', 'age'], 'formats':[\n",
    "    'U10', '3int32', 'int32'\n",
    "]})\n",
    "print('read:', score3[0]['scores'][0])\n",
    "print(score3, score3.dtype, scores.itemsize)\n",
    "print('--'*30)\n",
    "\n",
    "### 不推荐,要控制字节数, 知道就好了\n",
    "# score4 = np.array(data, dtype={'name': ('U10', 0), 'scores':('3int32', 16), 'age':('int32', 28)})\n",
    "# print('read:', score4[0]['scores'][0])\n",
    "\n",
    "## 第一种设置dtype的方式\n",
    "# scores = np.array(data, dtype='U3, 3i4, i4')\n",
    "# scores = np.array(data, dtype='<U10, 3i4, i4')\n",
    "# scores = np.array(data, dtype='O, 3i4, i4')\n",
    "\n",
    "## 第二种设置dtype的方式\n",
    "# score2 = np.array(data, dtype=[('name', 'str', 2), ('scores', 'int32', 3), ('age', 'int32', 1)])\n",
    "\n",
    "## 第三种设置dtype的方式\n",
    "# score3 = np.array(data, dtype={'names':['name', 'scores', 'age'], 'formats':[\n",
    "#     'U10', '3int32', 'int32'\n",
    "# ]})\n"
   ],
   "id": "f115e8d67f591ca9",
   "outputs": [
    {
     "name": "stdout",
     "output_type": "stream",
     "text": [
      "['aa' 'bbb' 'cccc' 'ddddd'] <U5\n",
      "[('', [98, 80, 85], 15) ('', [92, 81, 83], 16) ('', [95, 85, 95], 14)] [('f0', '<U'), ('f1', '<i4', (3,)), ('f2', '<i4')]\n",
      "[('zhangsan', [98, 80, 85], 15) ('lisi', [92, 81, 83], 16)\n",
      " ('wangwu', [95, 85, 95], 14)] [('f0', 'O'), ('f1', '<i4', (3,)), ('f2', '<i4')]\n",
      "read: 98\n",
      "------------------------------------------------------------\n",
      "read: 98\n",
      "[('zh', [98, 80, 85], [15]) ('li', [92, 81, 83], [16])\n",
      " ('wa', [95, 85, 95], [14])] [('name', '<U2'), ('scores', '<i4', (3,)), ('age', '<i4', (1,))]\n",
      "------------------------------------------------------------\n",
      "read: 98\n",
      "[('zhangsan', [98, 80, 85], 15) ('lisi', [92, 81, 83], 16)\n",
      " ('wangwu', [95, 85, 95], 14)] [('name', '<U10'), ('scores', '<i4', (3,)), ('age', '<i4')] 24\n",
      "------------------------------------------------------------\n"
     ]
    }
   ],
   "execution_count": 10
  },
  {
   "metadata": {
    "ExecuteTime": {
     "end_time": "2025-04-14T16:16:29.083899Z",
     "start_time": "2025-04-14T16:16:29.080989Z"
    }
   },
   "cell_type": "code",
   "source": [
    "## 测试日期类型的数据 datetime64\n",
    "from datetime import datetime\n",
    "\n",
    "data = ['2025', '2025-01-12', '2025-12', '2025-12-20 12:23:23']\n",
    "date_arr  = np.array(data)\n",
    "print(date_arr, date_arr.dtype)\n",
    "date_arr = np.array(data, dtype='datetime64[D]')\n",
    "print(date_arr, date_arr.dtype)\n",
    "date_arr = np.array(data, dtype='M8[s]')\n",
    "print(date_arr, date_arr.dtype)\n",
    "### 两个是完全不同的日期类型\n",
    "print(date_arr[0], type(date_arr[0]), datetime.now(), type(datetime.now()))\n",
    "\n",
    "## 日期差\n",
    "dis = date_arr[1] - date_arr[2]\n",
    "print(dis, type(dis))\n",
    "\n",
    "date_arr = date_arr.astype('M8[D]')\n",
    "dis = date_arr[1] - date_arr[2]\n",
    "print(dis, type(dis))"
   ],
   "id": "78390ed41433ea46",
   "outputs": [
    {
     "name": "stdout",
     "output_type": "stream",
     "text": [
      "['2025' '2025-01-12' '2025-12' '2025-12-20 12:23:23'] <U19\n",
      "['2025-01-01' '2025-01-12' '2025-12-01' '2025-12-20'] datetime64[D]\n",
      "['2025-01-01T00:00:00' '2025-01-12T00:00:00' '2025-12-01T00:00:00'\n",
      " '2025-12-20T12:23:23'] datetime64[s]\n",
      "2025-01-01T00:00:00 <class 'numpy.datetime64'> 2025-04-15 00:16:29.082591 <class 'datetime.datetime'>\n",
      "-27907200 seconds <class 'numpy.timedelta64'>\n",
      "-323 days <class 'numpy.timedelta64'>\n"
     ]
    }
   ],
   "execution_count": 11
  },
  {
   "metadata": {
    "ExecuteTime": {
     "end_time": "2025-04-14T16:16:43.959663Z",
     "start_time": "2025-04-14T16:16:43.957415Z"
    }
   },
   "cell_type": "code",
   "source": [
    "### 视图维度变更\n",
    "a = np.arange(12)\n",
    "print(a, a.shape)\n",
    "b = a.reshape(3, 4)\n",
    "print(b, b.shape)\n",
    "c = a.ravel()\n",
    "print(c, c.shape)\n",
    "d = a.repeat(3, axis=0)\n",
    "print(d, d.shape)\n",
    "e = a.reshape(3, 4).repeat(3, axis=0)\n",
    "print(e, e.shape)\n",
    "f = a.reshape(3, 4).repeat(3, axis=1)\n",
    "print(f, f.shape)"
   ],
   "id": "1b2dba5a054f3143",
   "outputs": [
    {
     "name": "stdout",
     "output_type": "stream",
     "text": [
      "[ 0  1  2  3  4  5  6  7  8  9 10 11] (12,)\n",
      "[[ 0  1  2  3]\n",
      " [ 4  5  6  7]\n",
      " [ 8  9 10 11]] (3, 4)\n",
      "[ 0  1  2  3  4  5  6  7  8  9 10 11] (12,)\n",
      "[ 0  0  0  1  1  1  2  2  2  3  3  3  4  4  4  5  5  5  6  6  6  7  7  7\n",
      "  8  8  8  9  9  9 10 10 10 11 11 11] (36,)\n",
      "[[ 0  1  2  3]\n",
      " [ 0  1  2  3]\n",
      " [ 0  1  2  3]\n",
      " [ 4  5  6  7]\n",
      " [ 4  5  6  7]\n",
      " [ 4  5  6  7]\n",
      " [ 8  9 10 11]\n",
      " [ 8  9 10 11]\n",
      " [ 8  9 10 11]] (9, 4)\n",
      "[[ 0  0  0  1  1  1  2  2  2  3  3  3]\n",
      " [ 4  4  4  5  5  5  6  6  6  7  7  7]\n",
      " [ 8  8  8  9  9  9 10 10 10 11 11 11]] (3, 12)\n"
     ]
    }
   ],
   "execution_count": 12
  },
  {
   "metadata": {
    "ExecuteTime": {
     "end_time": "2025-04-14T16:16:54.211728Z",
     "start_time": "2025-04-14T16:16:54.209211Z"
    }
   },
   "cell_type": "code",
   "source": [
    "## 一维变更\n",
    "aa = np.arange(12)\n",
    "bb = aa.ravel() ## 浅拷贝\n",
    "bb[0] = 100\n",
    "print(bb, aa)\n",
    "cc = aa.flatten() ## 深拷贝\n",
    "cc[1] = 10000\n",
    "print(cc, aa)\n",
    "\n",
    "## 就地变维 -- 直接更改原对象\n",
    "aa.shape = (3, 4)\n",
    "print(aa.shape, aa)\n",
    "print('----------')\n",
    "aa.resize((4, 3))\n",
    "print(aa, aa.shape)\n",
    "print('----------')\n",
    "aa.resize((6, 2)) ## 不能写-1, 这个和reshape有本质区别\n",
    "print(aa, aa.shape)\n"
   ],
   "id": "4cbf8bbf89743450",
   "outputs": [
    {
     "name": "stdout",
     "output_type": "stream",
     "text": [
      "[100   1   2   3   4   5   6   7   8   9  10  11] [100   1   2   3   4   5   6   7   8   9  10  11]\n",
      "[  100 10000     2     3     4     5     6     7     8     9    10    11] [100   1   2   3   4   5   6   7   8   9  10  11]\n",
      "(3, 4) [[100   1   2   3]\n",
      " [  4   5   6   7]\n",
      " [  8   9  10  11]]\n",
      "----------\n",
      "[[100   1   2]\n",
      " [  3   4   5]\n",
      " [  6   7   8]\n",
      " [  9  10  11]] (4, 3)\n",
      "----------\n",
      "[[100   1]\n",
      " [  2   3]\n",
      " [  4   5]\n",
      " [  6   7]\n",
      " [  8   9]\n",
      " [ 10  11]] (6, 2)\n"
     ]
    }
   ],
   "execution_count": 13
  },
  {
   "metadata": {
    "ExecuteTime": {
     "end_time": "2025-04-14T16:17:05.605859Z",
     "start_time": "2025-04-14T16:17:05.603402Z"
    }
   },
   "cell_type": "code",
   "source": [
    "a = np.arange(12)\n",
    "print(a)\n",
    "print(a[:3])\n",
    "print(a[3:6])\n",
    "print(a[6:])\n",
    "print(a[:-1])\n",
    "print(a[:-4:-1])\n",
    "print(a[-4:-7:-1])\n",
    "print(a[::])\n",
    "print(a[:])\n",
    "print(a[::2])\n",
    "print(a[1::3])\n",
    "print(a[4::4])\n",
    "\n",
    "\n",
    "b = a[2:6] ##浅拷贝 -- 这个是数组\n",
    "print(b)\n",
    "b[3] = 99999\n",
    "print(b, a)\n",
    "\n",
    "xx = [i for i in range(12)]\n",
    "yy = xx[2:6] ##深拷贝 -- 这个是列表\n",
    "yy[3] = 888888\n",
    "print(xx, yy)\n"
   ],
   "id": "263045596ff34241",
   "outputs": [
    {
     "name": "stdout",
     "output_type": "stream",
     "text": [
      "[ 0  1  2  3  4  5  6  7  8  9 10 11]\n",
      "[0 1 2]\n",
      "[3 4 5]\n",
      "[ 6  7  8  9 10 11]\n",
      "[ 0  1  2  3  4  5  6  7  8  9 10]\n",
      "[11 10  9]\n",
      "[8 7 6]\n",
      "[ 0  1  2  3  4  5  6  7  8  9 10 11]\n",
      "[ 0  1  2  3  4  5  6  7  8  9 10 11]\n",
      "[ 0  2  4  6  8 10]\n",
      "[ 1  4  7 10]\n",
      "[4 8]\n",
      "[2 3 4 5]\n",
      "[    2     3     4 99999] [    0     1     2     3     4 99999     6     7     8     9    10    11]\n",
      "[0, 1, 2, 3, 4, 5, 6, 7, 8, 9, 10, 11] [2, 3, 4, 888888]\n"
     ]
    }
   ],
   "execution_count": 14
  },
  {
   "metadata": {
    "ExecuteTime": {
     "end_time": "2025-04-14T16:17:18.085154Z",
     "start_time": "2025-04-14T16:17:18.083266Z"
    }
   },
   "cell_type": "code",
   "source": [
    "## 多位数组切片\n",
    "a = np.arange(1, 28).reshape(3, 3, 3)\n",
    "print(a[1,1,1])\n",
    "print(a[1,:,:])\n",
    "print(a[1,:, 1])"
   ],
   "id": "4a52e03975691ada",
   "outputs": [
    {
     "name": "stdout",
     "output_type": "stream",
     "text": [
      "14\n",
      "[[10 11 12]\n",
      " [13 14 15]\n",
      " [16 17 18]]\n",
      "[11 14 17]\n"
     ]
    }
   ],
   "execution_count": 15
  },
  {
   "metadata": {
    "ExecuteTime": {
     "end_time": "2025-04-14T16:17:25.463985Z",
     "start_time": "2025-04-14T16:17:25.460797Z"
    }
   },
   "cell_type": "code",
   "source": [
    "### 掩码运算\n",
    "c = np.array([[1, 100], [200, 2]])\n",
    "mask = c > 50\n",
    "print(mask)\n",
    "c[mask] = 999999 ## 掩码的为true的位置进行赋值\n",
    "print(c)\n",
    "print(c[mask]) ## 经过掩码后,变成一维数组\n",
    "\n",
    "print('------------------------------')\n",
    "a = np.arange(0, 100).reshape(10, 10)\n",
    "print(a[(a % 3 == 0) & (a % 5 == 0)])\n",
    "print(a[(a % 3 == 0) | (a % 5 == 0)])\n",
    "\n",
    "\n",
    "cc = np.array(['A', 'B', 'C', 'D'])\n",
    "mask = [3, 0 , 2, 0 , 0 , 1, 3, 0 , 1] ##掩码赋值\n",
    "print(cc[mask])"
   ],
   "id": "def76a16987db584",
   "outputs": [
    {
     "name": "stdout",
     "output_type": "stream",
     "text": [
      "[[False  True]\n",
      " [ True False]]\n",
      "[[     1 999999]\n",
      " [999999      2]]\n",
      "[999999 999999]\n",
      "------------------------------\n",
      "[ 0 15 30 45 60 75 90]\n",
      "[ 0  3  5  6  9 10 12 15 18 20 21 24 25 27 30 33 35 36 39 40 42 45 48 50\n",
      " 51 54 55 57 60 63 65 66 69 70 72 75 78 80 81 84 85 87 90 93 95 96 99]\n",
      "['D' 'A' 'C' 'A' 'A' 'B' 'D' 'A' 'B']\n"
     ]
    }
   ],
   "execution_count": 16
  },
  {
   "metadata": {
    "ExecuteTime": {
     "end_time": "2025-04-14T16:17:38.935716Z",
     "start_time": "2025-04-14T16:17:38.933042Z"
    }
   },
   "cell_type": "code",
   "source": [
    "## 多维度数组组合拆分\n",
    "a = np.arange(0, 6).reshape(2, 3)\n",
    "b = np.arange(7, 13).reshape(2, 3)\n",
    "\n",
    "c = np.vstack((a, b))\n",
    "print(c)\n",
    "\n",
    "d = np.hstack((a, b))\n",
    "print(d)\n",
    "\n",
    "e, f = np.vsplit(c, 2)\n",
    "print(e, f)\n",
    "\n",
    "h, i = np.hsplit(d, 2)\n",
    "print(h, i)\n",
    "\n",
    "aa = np.dstack((a, b))\n",
    "print(aa)\n"
   ],
   "id": "7b82d888aafe2a58",
   "outputs": [
    {
     "name": "stdout",
     "output_type": "stream",
     "text": [
      "[[ 0  1  2]\n",
      " [ 3  4  5]\n",
      " [ 7  8  9]\n",
      " [10 11 12]]\n",
      "[[ 0  1  2  7  8  9]\n",
      " [ 3  4  5 10 11 12]]\n",
      "[[0 1 2]\n",
      " [3 4 5]] [[ 7  8  9]\n",
      " [10 11 12]]\n",
      "[[0 1 2]\n",
      " [3 4 5]] [[ 7  8  9]\n",
      " [10 11 12]]\n",
      "[[[ 0  7]\n",
      "  [ 1  8]\n",
      "  [ 2  9]]\n",
      "\n",
      " [[ 3 10]\n",
      "  [ 4 11]\n",
      "  [ 5 12]]]\n"
     ]
    }
   ],
   "execution_count": 17
  },
  {
   "metadata": {
    "ExecuteTime": {
     "end_time": "2025-04-14T16:17:51.105089Z",
     "start_time": "2025-04-14T16:17:51.103019Z"
    }
   },
   "cell_type": "code",
   "source": [
    "## pad操作\n",
    "x = np.array([1, 2, 3, 4]).reshape(2, 2)\n",
    "y = np.array([4, 5])\n",
    "## pad_width的意思:before, after, 前面插入几个,后面插入几个\n",
    "z = np.pad(y, pad_width=(1, 2), mode='constant', constant_values=0)\n",
    "print(z)\n",
    "## pad_width是数组时, 第一个代表一维方向,第二个代表二维方向,也是before和after的意思\n",
    "m = np.pad(x, pad_width=[(1, 2),(3, 4)], mode='constant', constant_values=0)\n",
    "print(m)"
   ],
   "id": "d8219793036cd6d8",
   "outputs": [
    {
     "name": "stdout",
     "output_type": "stream",
     "text": [
      "[0 4 5 0 0]\n",
      "[[0 0 0 0 0 0 0 0 0]\n",
      " [0 0 0 1 2 0 0 0 0]\n",
      " [0 0 0 3 4 0 0 0 0]\n",
      " [0 0 0 0 0 0 0 0 0]\n",
      " [0 0 0 0 0 0 0 0 0]]\n"
     ]
    }
   ],
   "execution_count": 19
  },
  {
   "metadata": {
    "ExecuteTime": {
     "end_time": "2025-04-14T16:18:00.175252Z",
     "start_time": "2025-04-14T16:18:00.173049Z"
    }
   },
   "cell_type": "code",
   "source": [
    "## 组合和拆分的终极大招\n",
    "m = np.arange(1, 10).reshape(3, 3)\n",
    "n = np.arange(11, 20).reshape(3, 3)\n",
    "x = np.concatenate([m, n], axis=0)\n",
    "print(x)\n",
    "y = np.concatenate([m, n], axis=1)\n",
    "print(y)\n",
    "x0, x1 = np.split(x, 2, axis=0)\n",
    "print(x0, x1)\n",
    "y0, y1 = np.split(y, 2, axis=1)\n",
    "print(y0, y1)\n"
   ],
   "id": "8f93146622a16e97",
   "outputs": [
    {
     "name": "stdout",
     "output_type": "stream",
     "text": [
      "[[ 1  2  3]\n",
      " [ 4  5  6]\n",
      " [ 7  8  9]\n",
      " [11 12 13]\n",
      " [14 15 16]\n",
      " [17 18 19]]\n",
      "[[ 1  2  3 11 12 13]\n",
      " [ 4  5  6 14 15 16]\n",
      " [ 7  8  9 17 18 19]]\n",
      "[[1 2 3]\n",
      " [4 5 6]\n",
      " [7 8 9]] [[11 12 13]\n",
      " [14 15 16]\n",
      " [17 18 19]]\n",
      "[[1 2 3]\n",
      " [4 5 6]\n",
      " [7 8 9]] [[11 12 13]\n",
      " [14 15 16]\n",
      " [17 18 19]]\n"
     ]
    }
   ],
   "execution_count": 20
  },
  {
   "metadata": {
    "ExecuteTime": {
     "end_time": "2025-04-14T16:18:19.532860Z",
     "start_time": "2025-04-14T16:18:19.529863Z"
    }
   },
   "cell_type": "code",
   "source": [
    "## ndarray其他属性\n",
    "\n",
    "a = np.arange(10).reshape(2, 5)\n",
    "## int64-8字节 总共占用8*10=80字节\n",
    "print(a.itemsize, a.nbytes, a.T)\n",
    "\n",
    "## a.flat扁平迭代器\n",
    "for x in a.flat:\n",
    "    print(x)"
   ],
   "id": "ec2d17ccc498973b",
   "outputs": [
    {
     "name": "stdout",
     "output_type": "stream",
     "text": [
      "8 80 [[0 5]\n",
      " [1 6]\n",
      " [2 7]\n",
      " [3 8]\n",
      " [4 9]]\n",
      "0\n",
      "1\n",
      "2\n",
      "3\n",
      "4\n",
      "5\n",
      "6\n",
      "7\n",
      "8\n",
      "9\n"
     ]
    }
   ],
   "execution_count": 21
  },
  {
   "metadata": {},
   "cell_type": "code",
   "outputs": [],
   "execution_count": null,
   "source": "",
   "id": "897bc8d699a4c3d3"
  }
 ],
 "metadata": {
  "kernelspec": {
   "display_name": "Python 3 (ipykernel)",
   "language": "python",
   "name": "python3"
  },
  "language_info": {
   "codemirror_mode": {
    "name": "ipython",
    "version": 3
   },
   "file_extension": ".py",
   "mimetype": "text/x-python",
   "name": "python",
   "nbconvert_exporter": "python",
   "pygments_lexer": "ipython3",
   "version": "3.12.9"
  }
 },
 "nbformat": 4,
 "nbformat_minor": 5
}
