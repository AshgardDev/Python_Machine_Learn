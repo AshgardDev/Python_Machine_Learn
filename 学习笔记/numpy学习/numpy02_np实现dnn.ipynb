{
 "cells": [
  {
   "cell_type": "code",
   "id": "initial_id",
   "metadata": {
    "collapsed": true,
    "ExecuteTime": {
     "end_time": "2025-04-19T15:51:22.620269Z",
     "start_time": "2025-04-19T15:51:22.521672Z"
    }
   },
   "source": [
    "## 这是个demo numpy实现dnn\n",
    "## https://www.geeksforgeeks.org/implementation-of-neural-network-from-scratch-using-numpy/\n",
    "\n",
    "import numpy as np\n",
    "import matplotlib.pyplot as plt\n",
    "\n",
    "# Creating data set\n",
    "\n",
    "# A\n",
    "a = [\n",
    "    0, 0, 1, 1, 0, 0,\n",
    "    0, 1, 0, 0, 1, 0,\n",
    "    1, 1, 1, 1, 1, 1,\n",
    "    1, 0, 0, 0, 0, 1,\n",
    "    1, 0, 0, 0, 0, 1\n",
    "]\n",
    "# B\n",
    "b = [\n",
    "    0, 1, 1, 1, 0, 0,\n",
    "    0, 1, 0, 0, 1, 0,\n",
    "    0, 1, 1, 1, 0, 0,\n",
    "    0, 1, 0, 0, 1, 0,\n",
    "    0, 1, 1, 1, 0, 0\n",
    "]\n",
    "# C\n",
    "c = [\n",
    "    0, 1, 1, 1, 1, 0,\n",
    "    0, 1, 0, 0, 0, 0,\n",
    "    0, 1, 0, 0, 0, 0,\n",
    "    0, 1, 0, 0, 0, 0,\n",
    "    0, 1, 1, 1, 1, 0\n",
    "]\n",
    "\n",
    "# Creating labels\n",
    "y =[[1, 0, 0],\n",
    "[0, 1, 0],\n",
    "[0, 0, 1]]\n",
    "\n",
    "import numpy as np\n",
    "import matplotlib.pyplot as plt\n",
    "# visualizing the data, plotting A.\n",
    "plt.imshow(np.array(a).reshape(5, 6))\n",
    "plt.show()\n",
    "plt.imshow(np.array(b).reshape(5, 6))\n",
    "plt.show()\n",
    "plt.imshow(np.array(c).reshape(5, 6))\n",
    "plt.show()\n"
   ],
   "outputs": [
    {
     "data": {
      "text/plain": [
       "<Figure size 640x480 with 1 Axes>"
      ],
      "image/png": "[encoded data removed]"
     },
     "metadata": {},
     "output_type": "display_data"
    },
    {
     "data": {
      "text/plain": [
       "<Figure size 640x480 with 1 Axes>"
      ],
      "image/png": "[encoded data removed]"
     },
     "metadata": {},
     "output_type": "display_data"
    },
    {
     "data": {
      "text/plain": [
       "<Figure size 640x480 with 1 Axes>"
      ],
      "image/png": "[encoded data removed]"
     },
     "metadata": {},
     "output_type": "display_data"
    }
   ],
   "execution_count": 2
  },
  {
   "metadata": {
    "ExecuteTime": {
     "end_time": "2025-04-19T15:51:23.265703Z",
     "start_time": "2025-04-19T15:51:23.263262Z"
    }
   },
   "cell_type": "code",
   "source": [
    "x = [\n",
    "    np.array(a).reshape(1, 30),\n",
    "    np.array(b).reshape(1, 30),\n",
    "    np.array(c).reshape(1, 30),\n",
    "]\n",
    "y = np.array(y)"
   ],
   "id": "ca8de392fbceaa67",
   "outputs": [],
   "execution_count": 3
  },
  {
   "metadata": {
    "ExecuteTime": {
     "end_time": "2025-04-19T15:51:23.965235Z",
     "start_time": "2025-04-19T15:51:23.958426Z"
    }
   },
   "cell_type": "code",
   "source": [
    "# activation function\n",
    "\n",
    "def sigmoid(x):\n",
    "\treturn(1/(1 + np.exp(-x)))\n",
    "\n",
    "# Creating the Feed forward neural network\n",
    "# 1 Input layer(1, 30)\n",
    "# 1 hidden layer (1, 5)\n",
    "# 1 output layer(3, 3)\n",
    "\n",
    "def f_forward(x, w1, w2):\n",
    "\t# hidden\n",
    "\tz1 = x.dot(w1)# input from layer 1\n",
    "\ta1 = sigmoid(z1)# out put of layer 2\n",
    "\n",
    "\t# Output layer\n",
    "\tz2 = a1.dot(w2)# input of out layer\n",
    "\ta2 = sigmoid(z2)# output of out layer\n",
    "\treturn(a2)\n",
    "\n",
    "# initializing the weights randomly\n",
    "def generate_wt(x, y):\n",
    "\tl =[]\n",
    "\tfor i in range(x * y):\n",
    "\t\tl.append(np.random.randn())\n",
    "\treturn(np.array(l).reshape(x, y))\n",
    "\n",
    "# for loss we will be using mean square error(MSE)\n",
    "def loss(out, Y):\n",
    "\ts =(np.square(out-Y))\n",
    "\ts = np.sum(s)/len(y)\n",
    "\treturn(s)\n",
    "\n",
    "# Back propagation of error\n",
    "def back_prop(x, y, w1, w2, alpha):\n",
    "\n",
    "\t# hidden layer\n",
    "\tz1 = x.dot(w1)# input from layer 1\n",
    "\ta1 = sigmoid(z1)# output of layer 2\n",
    "\n",
    "\t# Output layer\n",
    "\tz2 = a1.dot(w2)# input of out layer\n",
    "\ta2 = sigmoid(z2)# output of out layer\n",
    "\t# error in output layer\n",
    "\td2 =(a2-y)\n",
    "\td1 = np.multiply((w2.dot((d2.transpose()))).transpose(),\n",
    "\t\t\t\t\t\t\t\t(np.multiply(a1, 1-a1)))\n",
    "\n",
    "\t# Gradient for w1 and w2\n",
    "\tw1_adj = x.transpose().dot(d1)\n",
    "\tw2_adj = a1.transpose().dot(d2)\n",
    "\n",
    "\t# Updating parameters\n",
    "\tw1 = w1-(alpha*(w1_adj))\n",
    "\tw2 = w2-(alpha*(w2_adj))\n",
    "\n",
    "\treturn(w1, w2)\n",
    "\n",
    "def train(x, Y, w1, w2, alpha = 0.01, epoch = 10):\n",
    "\tacc =[]\n",
    "\tlosss =[]\n",
    "\tfor j in range(epoch):\n",
    "\t\tl =[]\n",
    "\t\tfor i in range(len(x)):\n",
    "\t\t\tout = f_forward(x[i], w1, w2)\n",
    "\t\t\tl.append((loss(out, Y[i])))\n",
    "\t\t\tw1, w2 = back_prop(x[i], y[i], w1, w2, alpha)\n",
    "\t\tprint(\"epochs:\", j + 1, \"======== acc:\", (1-(sum(l)/len(x)))*100)\n",
    "\t\tacc.append((1-(sum(l)/len(x)))*100)\n",
    "\t\tlosss.append(sum(l)/len(x))\n",
    "\treturn(acc, losss, w1, w2)\n",
    "\n",
    "def predict(x, w1, w2):\n",
    "\tOut = f_forward(x, w1, w2)\n",
    "\tmaxm = 0\n",
    "\tk = 0\n",
    "\tfor i in range(len(Out[0])):\n",
    "\t\tif(maxm<Out[0][i]):\n",
    "\t\t\tmaxm = Out[0][i]\n",
    "\t\t\tk = i\n",
    "\tif(k == 0):\n",
    "\t\tprint(\"Image is of letter A.\")\n",
    "\telif(k == 1):\n",
    "\t\tprint(\"Image is of letter B.\")\n",
    "\telse:\n",
    "\t\tprint(\"Image is of letter C.\")\n",
    "\tplt.imshow(x.reshape(5, 6))\n",
    "\tplt.show()\n",
    "\n",
    "\n"
   ],
   "id": "737c1b88485d91e5",
   "outputs": [],
   "execution_count": 4
  },
  {
   "metadata": {
    "ExecuteTime": {
     "end_time": "2025-04-19T15:51:24.571135Z",
     "start_time": "2025-04-19T15:51:24.567410Z"
    }
   },
   "cell_type": "code",
   "source": [
    "w1 = generate_wt(30, 5)\n",
    "w2 = generate_wt(5, 3)\n",
    "print(w1, \"\\n\\n\", w2)\n"
   ],
   "id": "97e26c7f0f081d92",
   "outputs": [
    {
     "name": "stdout",
     "output_type": "stream",
     "text": [
      "[[ 0.73574503  0.93541069 -1.34422497  1.26442862 -0.19439177]\n",
      " [ 0.54427586  0.53016465  0.68977108  0.08783389 -0.55483997]\n",
      " [-1.68161786  0.59712122  1.0754623   0.23347124 -1.07233189]\n",
      " [ 0.04423364  0.65585799 -0.15298115 -0.17840614 -1.93783015]\n",
      " [ 1.36909439  0.97957408 -0.70576569  0.56495504 -0.75504809]\n",
      " [-1.60214787  0.16594758  1.15377776  0.07446636 -0.38180962]\n",
      " [-0.41581827 -0.44726546 -0.28434047 -0.12864962  1.70651715]\n",
      " [ 1.14728278 -0.70320393 -2.08988276  0.78672762 -0.77518209]\n",
      " [ 0.52132023 -0.74102458 -0.35984804 -1.901489   -0.56877538]\n",
      " [ 0.88088924 -0.40507332  0.58171374 -0.41173548  0.73494162]\n",
      " [ 0.99539027  1.33566929  0.56293402 -0.98510136 -0.02981559]\n",
      " [ 0.14652011  1.05278583  0.28000816 -1.6324698   0.20116885]\n",
      " [ 0.05224871 -0.16597604  0.18681315 -1.46965932 -0.38117268]\n",
      " [ 0.79259514 -0.03186459  0.71073084  1.14394601 -0.26611632]\n",
      " [-0.8576777   0.08864007 -1.62639233 -0.24590312 -1.26750109]\n",
      " [ 0.67143094  0.36236907 -1.57798611  0.5746878  -0.45157292]\n",
      " [-1.43984071  0.93448601 -0.49904268  1.5469797   0.73053907]\n",
      " [ 0.51820682 -2.38165996  0.83733953 -0.59370411  0.33761666]\n",
      " [-0.40776713  2.71192425 -1.25943333  0.42144568 -2.10613829]\n",
      " [-0.88130715 -0.63221507  1.32716446 -0.0821524   0.03099464]\n",
      " [ 0.17272455 -1.14409453 -1.37274773  0.22574655  0.67603921]\n",
      " [ 2.34107663 -0.28026917  2.04496009 -0.60197755  0.30873926]\n",
      " [ 1.49635987 -0.18245946  2.465018    0.54801605 -1.41368595]\n",
      " [ 0.75247735  0.1956291  -0.82589228 -0.55323803 -0.29841416]\n",
      " [ 0.406876    0.14941359  1.76389411 -0.03156797 -0.88985263]\n",
      " [ 1.73075954  0.39662066  0.30006915 -0.44530664 -0.49768094]\n",
      " [ 0.87775376 -0.10154263  0.74326236 -0.09506132 -0.12948227]\n",
      " [ 0.76152796 -0.91917971  1.88079999 -0.46837687 -2.06652981]\n",
      " [ 0.1605395  -1.31269702 -0.260453    0.05664793  1.41597292]\n",
      " [ 1.57235669  0.03041365 -0.74615278  1.42025786  0.72976007]] \n",
      "\n",
      " [[ 0.65849709 -1.49703856 -0.03150733]\n",
      " [-0.69071375  0.45098595 -0.14148527]\n",
      " [ 0.72471965 -0.50057709  1.09605019]\n",
      " [ 0.28082087  1.69486282 -0.92570866]\n",
      " [ 0.66879744  0.60891774 -0.6753809 ]]\n"
     ]
    }
   ],
   "execution_count": 5
  },
  {
   "metadata": {
    "ExecuteTime": {
     "end_time": "2025-04-19T15:51:25.153593Z",
     "start_time": "2025-04-19T15:51:25.141906Z"
    }
   },
   "cell_type": "code",
   "source": [
    "\"\"\"The arguments of train function are data set list x,\n",
    "correct labels y, weights w1, w2, learning rate = 0.1,\n",
    "no of epochs or iteration.The function will return the\n",
    "matrix of accuracy and loss and also the matrix of\n",
    "trained weights w1, w2\"\"\"\n",
    "\n",
    "acc, losss, w1, w2 = train(x, y, w1, w2, 0.1, 100)\n"
   ],
   "id": "e2bdce04ba4c7e40",
   "outputs": [
    {
     "name": "stdout",
     "output_type": "stream",
     "text": [
      "epochs: 1 ======== acc: 66.56182544172995\n",
      "epochs: 2 ======== acc: 68.90010287014428\n",
      "epochs: 3 ======== acc: 70.91152193067617\n",
      "epochs: 4 ======== acc: 72.54299280110908\n",
      "epochs: 5 ======== acc: 73.82509586332844\n",
      "epochs: 6 ======== acc: 74.827960428811\n",
      "epochs: 7 ======== acc: 75.62504111296596\n",
      "epochs: 8 ======== acc: 76.27690220567293\n",
      "epochs: 9 ======== acc: 76.82836578244209\n",
      "epochs: 10 ======== acc: 77.31099372957814\n",
      "epochs: 11 ======== acc: 77.74659507770747\n",
      "epochs: 12 ======== acc: 78.15022542054822\n",
      "epochs: 13 ======== acc: 78.53239000620196\n",
      "epochs: 14 ======== acc: 78.9005642833517\n",
      "epochs: 15 ======== acc: 79.26021658139588\n",
      "epochs: 16 ======== acc: 79.61548914871463\n",
      "epochs: 17 ======== acc: 79.9696489186405\n",
      "epochs: 18 ======== acc: 80.32538142648879\n",
      "epochs: 19 ======== acc: 80.68497365631971\n",
      "epochs: 20 ======== acc: 81.05041246266026\n",
      "epochs: 21 ======== acc: 81.4234124717028\n",
      "epochs: 22 ======== acc: 81.80538004598436\n",
      "epochs: 23 ======== acc: 82.19731854294643\n",
      "epochs: 24 ======== acc: 82.59968642468718\n",
      "epochs: 25 ======== acc: 83.01223500451091\n",
      "epochs: 26 ======== acc: 83.43387389266206\n",
      "epochs: 27 ======== acc: 83.86262843928226\n",
      "epochs: 28 ======== acc: 84.29574610337392\n",
      "epochs: 29 ======== acc: 84.72996429107678\n",
      "epochs: 30 ======== acc: 85.16188297885196\n",
      "epochs: 31 ======== acc: 85.58833342449876\n",
      "epochs: 32 ======== acc: 86.00663969896661\n",
      "epochs: 33 ======== acc: 86.41472925722486\n",
      "epochs: 34 ======== acc: 86.8111164948707\n",
      "epochs: 35 ======== acc: 87.19481692996229\n",
      "epochs: 36 ======== acc: 87.56524411303931\n",
      "epochs: 37 ======== acc: 87.9221180326137\n",
      "epochs: 38 ======== acc: 88.26539322414999\n",
      "epochs: 39 ======== acc: 88.59520426444847\n",
      "epochs: 40 ======== acc: 88.91182368260775\n",
      "epochs: 41 ======== acc: 89.21562823267594\n",
      "epochs: 42 ======== acc: 89.50707107877405\n",
      "epochs: 43 ======== acc: 89.78665861997723\n",
      "epochs: 44 ======== acc: 90.05493129049216\n",
      "epochs: 45 ======== acc: 90.31244789700166\n",
      "epochs: 46 ======== acc: 90.55977309901536\n",
      "epochs: 47 ======== acc: 90.7974676259934\n",
      "epochs: 48 ======== acc: 91.02608081583718\n",
      "epochs: 49 ======== acc: 91.24614507119112\n",
      "epochs: 50 ======== acc: 91.45817186200819\n",
      "epochs: 51 ======== acc: 91.662648947917\n",
      "epochs: 52 ======== acc: 91.86003854474023\n",
      "epochs: 53 ======== acc: 92.05077621049766\n",
      "epochs: 54 ======== acc: 92.23527027387578\n",
      "epochs: 55 ======== acc: 92.41390167057425\n",
      "epochs: 56 ======== acc: 92.58702408933577\n",
      "epochs: 57 ======== acc: 92.7549643596377\n",
      "epochs: 58 ======== acc: 92.91802303706942\n",
      "epochs: 59 ======== acc: 93.07647516056372\n",
      "epochs: 60 ======== acc: 93.23057116816767\n",
      "epochs: 61 ======== acc: 93.38053796527123\n",
      "epochs: 62 ======== acc: 93.5265801416231\n",
      "epochs: 63 ======== acc: 93.66888133170504\n",
      "epochs: 64 ======== acc: 93.80760570800044\n",
      "epochs: 65 ======== acc: 93.94289958950253\n",
      "epochs: 66 ======== acc: 94.07489313976785\n",
      "epochs: 67 ======== acc: 94.20370212128583\n",
      "epochs: 68 ======== acc: 94.32942966715035\n",
      "epochs: 69 ======== acc: 94.4521680279498\n",
      "epochs: 70 ======== acc: 94.57200025197821\n",
      "epochs: 71 ======== acc: 94.68900176036527\n",
      "epochs: 72 ======== acc: 94.80324178510178\n",
      "epochs: 73 ======== acc: 94.91478464640267\n",
      "epochs: 74 ======== acc: 95.023690855391\n",
      "epochs: 75 ======== acc: 95.13001803765862\n",
      "epochs: 76 ======== acc: 95.2338216819513\n",
      "epochs: 77 ======== acc: 95.3351557253657\n",
      "epochs: 78 ======== acc: 95.4340729916615\n",
      "epochs: 79 ======== acc: 95.53062550249591\n",
      "epochs: 80 ======== acc: 95.6248646827288\n",
      "epochs: 81 ======== acc: 95.7168414807326\n",
      "epochs: 82 ======== acc: 95.80660642325758\n",
      "epochs: 83 ======== acc: 95.89420962225039\n",
      "epochs: 84 ======== acc: 95.97970074845938\n",
      "epochs: 85 ======== acc: 96.06312898398005\n",
      "epochs: 86 ======== acc: 96.14454296331235\n",
      "epochs: 87 ======== acc: 96.22399071016048\n",
      "epochs: 88 ======== acc: 96.30151957518386\n",
      "epochs: 89 ======== acc: 96.37717617823064\n",
      "epochs: 90 ======== acc: 96.45100635724869\n",
      "epochs: 91 ======== acc: 96.5230551250411\n",
      "epochs: 92 ======== acc: 96.59336663427544\n",
      "epochs: 93 ======== acc: 96.6619841506211\n",
      "epochs: 94 ======== acc: 96.72895003353472\n",
      "epochs: 95 ======== acc: 96.79430572399755\n",
      "epochs: 96 ======== acc: 96.85809173839732\n",
      "epochs: 97 ======== acc: 96.92034766771094\n",
      "epochs: 98 ======== acc: 96.98111218115974\n",
      "epochs: 99 ======== acc: 97.04042303355841\n",
      "epochs: 100 ======== acc: 97.09831707564794\n"
     ]
    }
   ],
   "execution_count": 6
  },
  {
   "metadata": {
    "ExecuteTime": {
     "end_time": "2025-04-19T15:51:25.806848Z",
     "start_time": "2025-04-19T15:51:25.739188Z"
    }
   },
   "cell_type": "code",
   "source": [
    "import matplotlib.pyplot as plt1\n",
    "\n",
    "# plotting accuracy\n",
    "plt1.plot(acc)\n",
    "plt1.ylabel('Accuracy')\n",
    "plt1.xlabel(\"Epochs:\")\n",
    "plt1.show()\n",
    "\n",
    "# plotting Loss\n",
    "plt1.plot(losss)\n",
    "plt1.ylabel('Loss')\n",
    "plt1.xlabel(\"Epochs:\")\n",
    "plt1.show()\n"
   ],
   "id": "1457a7366398e5be",
   "outputs": [
    {
     "data": {
      "text/plain": [
       "<Figure size 640x480 with 1 Axes>"
      ],
      "image/png": "[encoded data removed]"
     },
     "metadata": {},
     "output_type": "display_data"
    },
    {
     "data": {
      "text/plain": [
       "<Figure size 640x480 with 1 Axes>"
      ],
      "image/png": "[encoded data removed]"
     },
     "metadata": {},
     "output_type": "display_data"
    }
   ],
   "execution_count": 7
  },
  {
   "metadata": {
    "ExecuteTime": {
     "end_time": "2025-04-19T15:51:28.995022Z",
     "start_time": "2025-04-19T15:51:28.992149Z"
    }
   },
   "cell_type": "code",
   "source": [
    "# the trained weights are\n",
    "print(w1, \"\\n\", w2)\n"
   ],
   "id": "cec0d8dca91eb87c",
   "outputs": [
    {
     "name": "stdout",
     "output_type": "stream",
     "text": [
      "[[ 0.73574503  0.93541069 -1.34422497  1.26442862 -0.19439177]\n",
      " [ 0.54780231  0.42609576  0.81604613  0.07841795 -0.56177827]\n",
      " [-1.51365958  0.47110349  1.07880366 -0.25424713 -1.07862796]\n",
      " [ 0.21219192  0.52984026 -0.14963979 -0.6661245  -1.94412622]\n",
      " [ 1.39129912  0.39909116 -0.59529376 -0.67390516 -0.76207543]\n",
      " [-1.60214787  0.16594758  1.15377776  0.07446636 -0.38180962]\n",
      " [-0.41581827 -0.44726546 -0.28434047 -0.12864962  1.70651715]\n",
      " [ 1.31524106 -0.82922167 -2.0865414   0.29900926 -0.78147815]\n",
      " [ 0.52132023 -0.74102458 -0.35984804 -1.901489   -0.56877538]\n",
      " [ 0.88088924 -0.40507332  0.58171374 -0.41173548  0.73494162]\n",
      " [ 1.14114383  1.79013447  0.45580345 -0.23395952 -0.02908431]\n",
      " [ 0.14652011  1.05278583  0.28000816 -1.6324698   0.20116885]\n",
      " [ 0.21668055 -0.18792487  0.06387946 -1.94796175 -0.38053044]\n",
      " [ 0.96055342 -0.15788232  0.7140722   0.65622764 -0.27241238]\n",
      " [-0.71192414  0.54310526 -1.73352289  0.50523871 -1.26676981]\n",
      " [ 0.81718449  0.81683425 -1.68511668  1.32582964 -0.45084164]\n",
      " [-1.27540887  0.91253718 -0.62197637  1.06867728  0.7311813 ]\n",
      " [ 0.68263865 -2.4036088   0.71440584 -1.07200654  0.3382589 ]\n",
      " [-0.24333529  2.68997541 -1.38236702 -0.05685674 -2.10549606]\n",
      " [-0.8777807  -0.73628396  1.45343951 -0.09156834  0.02405634]\n",
      " [ 0.17272455 -1.14409453 -1.37274773  0.22574655  0.67603921]\n",
      " [ 2.34107663 -0.28026917  2.04496009 -0.60197755  0.30873926]\n",
      " [ 1.47768158  0.29395456  2.48082113  1.77746031 -1.41359691]\n",
      " [ 0.91690918  0.17368026 -0.94882598 -1.03154046 -0.29777192]\n",
      " [ 0.57130783  0.12746475  1.64096042 -0.5098704  -0.8892104 ]\n",
      " [ 1.73428599  0.29255176  0.42634421 -0.45472257 -0.50461924]\n",
      " [ 0.8812802  -0.20561152  0.86953742 -0.10447726 -0.13642057]\n",
      " [ 0.7650544  -1.0232486   2.00707505 -0.47779281 -2.07346811]\n",
      " [ 0.18274423 -1.89317994 -0.14998107 -1.18221227  1.40894558]\n",
      " [ 1.73678853  0.00846482 -0.86908648  0.94195543  0.73040231]] \n",
      " [[ 0.48393393 -2.84298735 -0.05915682]\n",
      " [ 0.668208    0.63020162 -2.26014203]\n",
      " [-3.37831978  1.34008094  1.95683135]\n",
      " [ 0.33790457  2.23467194 -2.24592761]\n",
      " [ 0.66804188  0.60381492 -0.67136318]]\n"
     ]
    }
   ],
   "execution_count": 8
  },
  {
   "metadata": {
    "ExecuteTime": {
     "end_time": "2025-04-19T15:51:29.742050Z",
     "start_time": "2025-04-19T15:51:29.701516Z"
    }
   },
   "cell_type": "code",
   "source": [
    "\"\"\"\n",
    "The predict function will take the following arguments:\n",
    "1) image matrix\n",
    "2) w1 trained weights\n",
    "3) w2 trained weights\n",
    "\"\"\"\n",
    "predict(x[1], w1, w2)\n"
   ],
   "id": "e54da11742aa582b",
   "outputs": [
    {
     "name": "stdout",
     "output_type": "stream",
     "text": [
      "Image is of letter B.\n"
     ]
    },
    {
     "data": {
      "text/plain": [
       "<Figure size 640x480 with 1 Axes>"
      ],
      "image/png": "[encoded data removed]"
     },
     "metadata": {},
     "output_type": "display_data"
    }
   ],
   "execution_count": 9
  },
  {
   "metadata": {
    "ExecuteTime": {
     "end_time": "2025-04-19T15:51:30.267113Z",
     "start_time": "2025-04-19T15:51:30.265327Z"
    }
   },
   "cell_type": "code",
   "source": "",
   "id": "e58349ebdecd34ec",
   "outputs": [],
   "execution_count": null
  },
  {
   "metadata": {},
   "cell_type": "code",
   "outputs": [],
   "execution_count": null,
   "source": "",
   "id": "1a2e385055ead5b"
  }
 ],
 "metadata": {
  "kernelspec": {
   "display_name": "Python 3",
   "language": "python",
   "name": "python3"
  },
  "language_info": {
   "codemirror_mode": {
    "name": "ipython",
    "version": 2
   },
   "file_extension": ".py",
   "mimetype": "text/x-python",
   "name": "python",
   "nbconvert_exporter": "python",
   "pygments_lexer": "ipython2",
   "version": "2.7.6"
  }
 },
 "nbformat": 4,
 "nbformat_minor": 5
}
